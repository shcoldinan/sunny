{
 "cells": [
  {
   "cell_type": "markdown",
   "metadata": {},
   "source": [
    "# Исследование надёжности заёмщиков\n",
    "\n",
    "По проекту, нужно проанализировать зависимость возврата кредита от семейного положения и количества детей заёмщика.\n",
    "Данные предоставлены обучающей организацией.# Введение"
   ]
  },
  {
   "cell_type": "markdown",
   "metadata": {},
   "source": [
    "# Загрузим данные"
   ]
  },
  {
   "cell_type": "markdown",
   "metadata": {},
   "source": [
    "## используемые библиотеки"
   ]
  },
  {
   "cell_type": "code",
   "execution_count": 1,
   "metadata": {},
   "outputs": [],
   "source": [
    "import pandas as pd\n",
    "import seaborn as sns\n",
    "from pymystem3 import Mystem\n",
    "from collections import Counter"
   ]
  },
  {
   "cell_type": "markdown",
   "metadata": {},
   "source": [
    "## загружаемые данные"
   ]
  },
  {
   "cell_type": "code",
   "execution_count": 2,
   "metadata": {},
   "outputs": [],
   "source": [
    "# запишем варианты загрузки\n",
    "try:\n",
    "    df = pd.read_csv('/datasets/data.csv')\n",
    "except:\n",
    "    df = pd.read_csv('C:/Users/user/Desktop/tasks/project_2/data.csv')"
   ]
  },
  {
   "cell_type": "code",
   "execution_count": 3,
   "metadata": {},
   "outputs": [],
   "source": [
    "# соберём функцию первоначального осмотра датафрейма\n",
    "def start_view(dataframe):\n",
    "    index = dataframe[dataframe.duplicated(keep = False)].sort_values(by = list(dataframe.columns)).count() # keep = False выведет все совпадения\n",
    "    print(\"Количество дубликатов:\", index)\n",
    "    dataframe.info()\n",
    "    display(dataframe.describe())\n",
    "    display(dataframe.head())"
   ]
  },
  {
   "cell_type": "markdown",
   "metadata": {},
   "source": [
    "### посмотрим на исходные данные"
   ]
  },
  {
   "cell_type": "code",
   "execution_count": 4,
   "metadata": {},
   "outputs": [
    {
     "name": "stdout",
     "output_type": "stream",
     "text": [
      "Количество дубликатов: children            106\n",
      "days_employed         0\n",
      "dob_years           106\n",
      "education           106\n",
      "education_id        106\n",
      "family_status       106\n",
      "family_status_id    106\n",
      "gender              106\n",
      "income_type         106\n",
      "debt                106\n",
      "total_income          0\n",
      "purpose             106\n",
      "dtype: int64\n",
      "<class 'pandas.core.frame.DataFrame'>\n",
      "RangeIndex: 21525 entries, 0 to 21524\n",
      "Data columns (total 12 columns):\n",
      " #   Column            Non-Null Count  Dtype  \n",
      "---  ------            --------------  -----  \n",
      " 0   children          21525 non-null  int64  \n",
      " 1   days_employed     19351 non-null  float64\n",
      " 2   dob_years         21525 non-null  int64  \n",
      " 3   education         21525 non-null  object \n",
      " 4   education_id      21525 non-null  int64  \n",
      " 5   family_status     21525 non-null  object \n",
      " 6   family_status_id  21525 non-null  int64  \n",
      " 7   gender            21525 non-null  object \n",
      " 8   income_type       21525 non-null  object \n",
      " 9   debt              21525 non-null  int64  \n",
      " 10  total_income      19351 non-null  float64\n",
      " 11  purpose           21525 non-null  object \n",
      "dtypes: float64(2), int64(5), object(5)\n",
      "memory usage: 2.0+ MB\n"
     ]
    },
    {
     "data": {
      "text/html": [
       "<div>\n",
       "<style scoped>\n",
       "    .dataframe tbody tr th:only-of-type {\n",
       "        vertical-align: middle;\n",
       "    }\n",
       "\n",
       "    .dataframe tbody tr th {\n",
       "        vertical-align: top;\n",
       "    }\n",
       "\n",
       "    .dataframe thead th {\n",
       "        text-align: right;\n",
       "    }\n",
       "</style>\n",
       "<table border=\"1\" class=\"dataframe\">\n",
       "  <thead>\n",
       "    <tr style=\"text-align: right;\">\n",
       "      <th></th>\n",
       "      <th>children</th>\n",
       "      <th>days_employed</th>\n",
       "      <th>dob_years</th>\n",
       "      <th>education_id</th>\n",
       "      <th>family_status_id</th>\n",
       "      <th>debt</th>\n",
       "      <th>total_income</th>\n",
       "    </tr>\n",
       "  </thead>\n",
       "  <tbody>\n",
       "    <tr>\n",
       "      <th>count</th>\n",
       "      <td>21525.000000</td>\n",
       "      <td>19351.000000</td>\n",
       "      <td>21525.000000</td>\n",
       "      <td>21525.000000</td>\n",
       "      <td>21525.000000</td>\n",
       "      <td>21525.000000</td>\n",
       "      <td>1.935100e+04</td>\n",
       "    </tr>\n",
       "    <tr>\n",
       "      <th>mean</th>\n",
       "      <td>0.538908</td>\n",
       "      <td>63046.497661</td>\n",
       "      <td>43.293380</td>\n",
       "      <td>0.817236</td>\n",
       "      <td>0.972544</td>\n",
       "      <td>0.080883</td>\n",
       "      <td>1.674223e+05</td>\n",
       "    </tr>\n",
       "    <tr>\n",
       "      <th>std</th>\n",
       "      <td>1.381587</td>\n",
       "      <td>140827.311974</td>\n",
       "      <td>12.574584</td>\n",
       "      <td>0.548138</td>\n",
       "      <td>1.420324</td>\n",
       "      <td>0.272661</td>\n",
       "      <td>1.029716e+05</td>\n",
       "    </tr>\n",
       "    <tr>\n",
       "      <th>min</th>\n",
       "      <td>-1.000000</td>\n",
       "      <td>-18388.949901</td>\n",
       "      <td>0.000000</td>\n",
       "      <td>0.000000</td>\n",
       "      <td>0.000000</td>\n",
       "      <td>0.000000</td>\n",
       "      <td>2.066726e+04</td>\n",
       "    </tr>\n",
       "    <tr>\n",
       "      <th>25%</th>\n",
       "      <td>0.000000</td>\n",
       "      <td>-2747.423625</td>\n",
       "      <td>33.000000</td>\n",
       "      <td>1.000000</td>\n",
       "      <td>0.000000</td>\n",
       "      <td>0.000000</td>\n",
       "      <td>1.030532e+05</td>\n",
       "    </tr>\n",
       "    <tr>\n",
       "      <th>50%</th>\n",
       "      <td>0.000000</td>\n",
       "      <td>-1203.369529</td>\n",
       "      <td>42.000000</td>\n",
       "      <td>1.000000</td>\n",
       "      <td>0.000000</td>\n",
       "      <td>0.000000</td>\n",
       "      <td>1.450179e+05</td>\n",
       "    </tr>\n",
       "    <tr>\n",
       "      <th>75%</th>\n",
       "      <td>1.000000</td>\n",
       "      <td>-291.095954</td>\n",
       "      <td>53.000000</td>\n",
       "      <td>1.000000</td>\n",
       "      <td>1.000000</td>\n",
       "      <td>0.000000</td>\n",
       "      <td>2.034351e+05</td>\n",
       "    </tr>\n",
       "    <tr>\n",
       "      <th>max</th>\n",
       "      <td>20.000000</td>\n",
       "      <td>401755.400475</td>\n",
       "      <td>75.000000</td>\n",
       "      <td>4.000000</td>\n",
       "      <td>4.000000</td>\n",
       "      <td>1.000000</td>\n",
       "      <td>2.265604e+06</td>\n",
       "    </tr>\n",
       "  </tbody>\n",
       "</table>\n",
       "</div>"
      ],
      "text/plain": [
       "           children  days_employed     dob_years  education_id  \\\n",
       "count  21525.000000   19351.000000  21525.000000  21525.000000   \n",
       "mean       0.538908   63046.497661     43.293380      0.817236   \n",
       "std        1.381587  140827.311974     12.574584      0.548138   \n",
       "min       -1.000000  -18388.949901      0.000000      0.000000   \n",
       "25%        0.000000   -2747.423625     33.000000      1.000000   \n",
       "50%        0.000000   -1203.369529     42.000000      1.000000   \n",
       "75%        1.000000    -291.095954     53.000000      1.000000   \n",
       "max       20.000000  401755.400475     75.000000      4.000000   \n",
       "\n",
       "       family_status_id          debt  total_income  \n",
       "count      21525.000000  21525.000000  1.935100e+04  \n",
       "mean           0.972544      0.080883  1.674223e+05  \n",
       "std            1.420324      0.272661  1.029716e+05  \n",
       "min            0.000000      0.000000  2.066726e+04  \n",
       "25%            0.000000      0.000000  1.030532e+05  \n",
       "50%            0.000000      0.000000  1.450179e+05  \n",
       "75%            1.000000      0.000000  2.034351e+05  \n",
       "max            4.000000      1.000000  2.265604e+06  "
      ]
     },
     "metadata": {},
     "output_type": "display_data"
    },
    {
     "data": {
      "text/html": [
       "<div>\n",
       "<style scoped>\n",
       "    .dataframe tbody tr th:only-of-type {\n",
       "        vertical-align: middle;\n",
       "    }\n",
       "\n",
       "    .dataframe tbody tr th {\n",
       "        vertical-align: top;\n",
       "    }\n",
       "\n",
       "    .dataframe thead th {\n",
       "        text-align: right;\n",
       "    }\n",
       "</style>\n",
       "<table border=\"1\" class=\"dataframe\">\n",
       "  <thead>\n",
       "    <tr style=\"text-align: right;\">\n",
       "      <th></th>\n",
       "      <th>children</th>\n",
       "      <th>days_employed</th>\n",
       "      <th>dob_years</th>\n",
       "      <th>education</th>\n",
       "      <th>education_id</th>\n",
       "      <th>family_status</th>\n",
       "      <th>family_status_id</th>\n",
       "      <th>gender</th>\n",
       "      <th>income_type</th>\n",
       "      <th>debt</th>\n",
       "      <th>total_income</th>\n",
       "      <th>purpose</th>\n",
       "    </tr>\n",
       "  </thead>\n",
       "  <tbody>\n",
       "    <tr>\n",
       "      <th>0</th>\n",
       "      <td>1</td>\n",
       "      <td>-8437.673028</td>\n",
       "      <td>42</td>\n",
       "      <td>высшее</td>\n",
       "      <td>0</td>\n",
       "      <td>женат / замужем</td>\n",
       "      <td>0</td>\n",
       "      <td>F</td>\n",
       "      <td>сотрудник</td>\n",
       "      <td>0</td>\n",
       "      <td>253875.639453</td>\n",
       "      <td>покупка жилья</td>\n",
       "    </tr>\n",
       "    <tr>\n",
       "      <th>1</th>\n",
       "      <td>1</td>\n",
       "      <td>-4024.803754</td>\n",
       "      <td>36</td>\n",
       "      <td>среднее</td>\n",
       "      <td>1</td>\n",
       "      <td>женат / замужем</td>\n",
       "      <td>0</td>\n",
       "      <td>F</td>\n",
       "      <td>сотрудник</td>\n",
       "      <td>0</td>\n",
       "      <td>112080.014102</td>\n",
       "      <td>приобретение автомобиля</td>\n",
       "    </tr>\n",
       "    <tr>\n",
       "      <th>2</th>\n",
       "      <td>0</td>\n",
       "      <td>-5623.422610</td>\n",
       "      <td>33</td>\n",
       "      <td>Среднее</td>\n",
       "      <td>1</td>\n",
       "      <td>женат / замужем</td>\n",
       "      <td>0</td>\n",
       "      <td>M</td>\n",
       "      <td>сотрудник</td>\n",
       "      <td>0</td>\n",
       "      <td>145885.952297</td>\n",
       "      <td>покупка жилья</td>\n",
       "    </tr>\n",
       "    <tr>\n",
       "      <th>3</th>\n",
       "      <td>3</td>\n",
       "      <td>-4124.747207</td>\n",
       "      <td>32</td>\n",
       "      <td>среднее</td>\n",
       "      <td>1</td>\n",
       "      <td>женат / замужем</td>\n",
       "      <td>0</td>\n",
       "      <td>M</td>\n",
       "      <td>сотрудник</td>\n",
       "      <td>0</td>\n",
       "      <td>267628.550329</td>\n",
       "      <td>дополнительное образование</td>\n",
       "    </tr>\n",
       "    <tr>\n",
       "      <th>4</th>\n",
       "      <td>0</td>\n",
       "      <td>340266.072047</td>\n",
       "      <td>53</td>\n",
       "      <td>среднее</td>\n",
       "      <td>1</td>\n",
       "      <td>гражданский брак</td>\n",
       "      <td>1</td>\n",
       "      <td>F</td>\n",
       "      <td>пенсионер</td>\n",
       "      <td>0</td>\n",
       "      <td>158616.077870</td>\n",
       "      <td>сыграть свадьбу</td>\n",
       "    </tr>\n",
       "  </tbody>\n",
       "</table>\n",
       "</div>"
      ],
      "text/plain": [
       "   children  days_employed  dob_years education  education_id  \\\n",
       "0         1   -8437.673028         42    высшее             0   \n",
       "1         1   -4024.803754         36   среднее             1   \n",
       "2         0   -5623.422610         33   Среднее             1   \n",
       "3         3   -4124.747207         32   среднее             1   \n",
       "4         0  340266.072047         53   среднее             1   \n",
       "\n",
       "      family_status  family_status_id gender income_type  debt   total_income  \\\n",
       "0   женат / замужем                 0      F   сотрудник     0  253875.639453   \n",
       "1   женат / замужем                 0      F   сотрудник     0  112080.014102   \n",
       "2   женат / замужем                 0      M   сотрудник     0  145885.952297   \n",
       "3   женат / замужем                 0      M   сотрудник     0  267628.550329   \n",
       "4  гражданский брак                 1      F   пенсионер     0  158616.077870   \n",
       "\n",
       "                      purpose  \n",
       "0               покупка жилья  \n",
       "1     приобретение автомобиля  \n",
       "2               покупка жилья  \n",
       "3  дополнительное образование  \n",
       "4             сыграть свадьбу  "
      ]
     },
     "metadata": {},
     "output_type": "display_data"
    }
   ],
   "source": [
    "start_view(df)"
   ]
  },
  {
   "cell_type": "markdown",
   "metadata": {},
   "source": [
    "### Вывод"
   ]
  },
  {
   "cell_type": "markdown",
   "metadata": {},
   "source": [
    "Что у нас известно:\n",
    "1. у нас 12 столбцов, в которых не везде заполнены данные (столбцы days_empoyed и total_income содержит 19351 строчек записей, а все оставльные 21525 записей.\n",
    "2. можно предположить, что столбцы education , gender , income_type и purpose имеют категориальные значения.\n",
    "\n",
    "\n",
    "Вывод:\n",
    "нужно избавиться от пропусков в данных, убрать дубликаты (если они есть)."
   ]
  },
  {
   "cell_type": "markdown",
   "metadata": {},
   "source": [
    "## Шаг 2. Обработаем данные"
   ]
  },
  {
   "cell_type": "markdown",
   "metadata": {},
   "source": [
    "### Обработаем пропуски"
   ]
  },
  {
   "cell_type": "code",
   "execution_count": 5,
   "metadata": {},
   "outputs": [],
   "source": [
    "# поправим отрицательные значения столбца days_employed в положительное\n",
    "df['days_employed'] = df['days_employed'].abs()"
   ]
  },
  {
   "cell_type": "code",
   "execution_count": 6,
   "metadata": {},
   "outputs": [],
   "source": [
    "df['education'] = df['education'].str.lower() # приведём столбец с данными об образовании в единый вид"
   ]
  },
  {
   "cell_type": "code",
   "execution_count": 7,
   "metadata": {},
   "outputs": [
    {
     "data": {
      "text/html": [
       "<div>\n",
       "<style scoped>\n",
       "    .dataframe tbody tr th:only-of-type {\n",
       "        vertical-align: middle;\n",
       "    }\n",
       "\n",
       "    .dataframe tbody tr th {\n",
       "        vertical-align: top;\n",
       "    }\n",
       "\n",
       "    .dataframe thead th {\n",
       "        text-align: right;\n",
       "    }\n",
       "</style>\n",
       "<table border=\"1\" class=\"dataframe\">\n",
       "  <thead>\n",
       "    <tr style=\"text-align: right;\">\n",
       "      <th></th>\n",
       "      <th>children</th>\n",
       "      <th>days_employed</th>\n",
       "      <th>dob_years</th>\n",
       "      <th>education</th>\n",
       "      <th>education_id</th>\n",
       "      <th>family_status</th>\n",
       "      <th>family_status_id</th>\n",
       "      <th>gender</th>\n",
       "      <th>income_type</th>\n",
       "      <th>debt</th>\n",
       "      <th>total_income</th>\n",
       "      <th>purpose</th>\n",
       "    </tr>\n",
       "  </thead>\n",
       "  <tbody>\n",
       "    <tr>\n",
       "      <th>0</th>\n",
       "      <td>1</td>\n",
       "      <td>8437.673028</td>\n",
       "      <td>42</td>\n",
       "      <td>высшее</td>\n",
       "      <td>0</td>\n",
       "      <td>женат / замужем</td>\n",
       "      <td>0</td>\n",
       "      <td>F</td>\n",
       "      <td>сотрудник</td>\n",
       "      <td>0</td>\n",
       "      <td>253875.639453</td>\n",
       "      <td>покупка жилья</td>\n",
       "    </tr>\n",
       "    <tr>\n",
       "      <th>1</th>\n",
       "      <td>1</td>\n",
       "      <td>4024.803754</td>\n",
       "      <td>36</td>\n",
       "      <td>среднее</td>\n",
       "      <td>1</td>\n",
       "      <td>женат / замужем</td>\n",
       "      <td>0</td>\n",
       "      <td>F</td>\n",
       "      <td>сотрудник</td>\n",
       "      <td>0</td>\n",
       "      <td>112080.014102</td>\n",
       "      <td>приобретение автомобиля</td>\n",
       "    </tr>\n",
       "    <tr>\n",
       "      <th>2</th>\n",
       "      <td>0</td>\n",
       "      <td>5623.422610</td>\n",
       "      <td>33</td>\n",
       "      <td>среднее</td>\n",
       "      <td>1</td>\n",
       "      <td>женат / замужем</td>\n",
       "      <td>0</td>\n",
       "      <td>M</td>\n",
       "      <td>сотрудник</td>\n",
       "      <td>0</td>\n",
       "      <td>145885.952297</td>\n",
       "      <td>покупка жилья</td>\n",
       "    </tr>\n",
       "    <tr>\n",
       "      <th>3</th>\n",
       "      <td>3</td>\n",
       "      <td>4124.747207</td>\n",
       "      <td>32</td>\n",
       "      <td>среднее</td>\n",
       "      <td>1</td>\n",
       "      <td>женат / замужем</td>\n",
       "      <td>0</td>\n",
       "      <td>M</td>\n",
       "      <td>сотрудник</td>\n",
       "      <td>0</td>\n",
       "      <td>267628.550329</td>\n",
       "      <td>дополнительное образование</td>\n",
       "    </tr>\n",
       "    <tr>\n",
       "      <th>4</th>\n",
       "      <td>0</td>\n",
       "      <td>340266.072047</td>\n",
       "      <td>53</td>\n",
       "      <td>среднее</td>\n",
       "      <td>1</td>\n",
       "      <td>гражданский брак</td>\n",
       "      <td>1</td>\n",
       "      <td>F</td>\n",
       "      <td>пенсионер</td>\n",
       "      <td>0</td>\n",
       "      <td>158616.077870</td>\n",
       "      <td>сыграть свадьбу</td>\n",
       "    </tr>\n",
       "  </tbody>\n",
       "</table>\n",
       "</div>"
      ],
      "text/plain": [
       "   children  days_employed  dob_years education  education_id  \\\n",
       "0         1    8437.673028         42    высшее             0   \n",
       "1         1    4024.803754         36   среднее             1   \n",
       "2         0    5623.422610         33   среднее             1   \n",
       "3         3    4124.747207         32   среднее             1   \n",
       "4         0  340266.072047         53   среднее             1   \n",
       "\n",
       "      family_status  family_status_id gender income_type  debt   total_income  \\\n",
       "0   женат / замужем                 0      F   сотрудник     0  253875.639453   \n",
       "1   женат / замужем                 0      F   сотрудник     0  112080.014102   \n",
       "2   женат / замужем                 0      M   сотрудник     0  145885.952297   \n",
       "3   женат / замужем                 0      M   сотрудник     0  267628.550329   \n",
       "4  гражданский брак                 1      F   пенсионер     0  158616.077870   \n",
       "\n",
       "                      purpose  \n",
       "0               покупка жилья  \n",
       "1     приобретение автомобиля  \n",
       "2               покупка жилья  \n",
       "3  дополнительное образование  \n",
       "4             сыграть свадьбу  "
      ]
     },
     "metadata": {},
     "output_type": "display_data"
    }
   ],
   "source": [
    "display(df.head()) # посмотрим на результат"
   ]
  },
  {
   "cell_type": "markdown",
   "metadata": {},
   "source": [
    "Добавим столбец с маркировкой незаполненности значения:"
   ]
  },
  {
   "cell_type": "code",
   "execution_count": 8,
   "metadata": {},
   "outputs": [],
   "source": [
    "def is_na(cell_value):\n",
    "    if cell_value > 0.0:\n",
    "        return 'True'\n",
    "    return 'False'"
   ]
  },
  {
   "cell_type": "code",
   "execution_count": 9,
   "metadata": {},
   "outputs": [],
   "source": [
    "df['years_na'] = df['days_employed'].apply(is_na)"
   ]
  },
  {
   "cell_type": "markdown",
   "metadata": {},
   "source": [
    "Посмотрим что у нас есть в строках про пропуски"
   ]
  },
  {
   "cell_type": "code",
   "execution_count": 10,
   "metadata": {},
   "outputs": [
    {
     "data": {
      "text/plain": [
       "2174"
      ]
     },
     "metadata": {},
     "output_type": "display_data"
    },
    {
     "data": {
      "text/plain": [
       "2174"
      ]
     },
     "metadata": {},
     "output_type": "display_data"
    }
   ],
   "source": [
    "display(df['total_income'].isna().sum()) # проверим кол-во пропусков в столбце total_income\n",
    "display(df['days_employed'].isna().sum()) # проверим кол-во пропусков в столбце days_employed"
   ]
  },
  {
   "cell_type": "markdown",
   "metadata": {},
   "source": [
    "Пропущено одинаковое значение в столбцах total_income и days_employed, можно попробовать заполнить пропуски с учётом пола и кол-ва детей."
   ]
  },
  {
   "cell_type": "code",
   "execution_count": 11,
   "metadata": {},
   "outputs": [],
   "source": [
    "# для женщин в столбце days_employed\n",
    "for children in df['children'].unique():\n",
    "    for education in df['education'].unique():\n",
    "        median = df.loc[(df['children'] == children) & (df['gender'] == 'F'), 'days_employed'].median()\n",
    "        df.loc[(df['days_employed'].isna()) & (df['children'] == children) & (df['gender'] == 'F'), 'days_employed'] = median \n",
    "        \n",
    "# для женщин в столбце total_income:\n",
    "for children in df['children'].unique():\n",
    "    for education in df['education'].unique():\n",
    "        median = df.loc[(df['children'] == children) & (df['gender'] == 'F'), 'total_income'].median()\n",
    "        df.loc[(df['total_income'].isna()) & (df['children'] == children) & (df['gender'] == 'F'), 'total_income'] = median         \n",
    "        "
   ]
  },
  {
   "cell_type": "code",
   "execution_count": 12,
   "metadata": {},
   "outputs": [
    {
     "data": {
      "text/plain": [
       "690"
      ]
     },
     "metadata": {},
     "output_type": "display_data"
    },
    {
     "data": {
      "text/plain": [
       "690"
      ]
     },
     "metadata": {},
     "output_type": "display_data"
    }
   ],
   "source": [
    "display(df['total_income'].isna().sum()) # проверим сколько осталось строк с пропущенными значениями\n",
    "display(df['days_employed'].isna().sum())"
   ]
  },
  {
   "cell_type": "code",
   "execution_count": 13,
   "metadata": {},
   "outputs": [],
   "source": [
    "# для мужчин в столбце days_employed\n",
    "for children in df['children'].unique():\n",
    "    for education in df['education'].unique():\n",
    "        median = df.loc[(df['children'] == children) & (df['gender'] == 'M'), 'days_employed'].median()\n",
    "        df.loc[(df['days_employed'].isna()) & (df['children'] == children) & (df['gender'] == 'M'), 'days_employed'] = median \n",
    "        \n",
    "# для мужчин в столбце total_income:\n",
    "for children in df['children'].unique():\n",
    "    for education in df['education'].unique():\n",
    "        median = df.loc[(df['children'] == children) & (df['gender'] == 'M'), 'total_income'].median()\n",
    "        df.loc[(df['total_income'].isna()) & (df['children'] == children) & (df['gender'] == 'M'), 'total_income'] = median         \n",
    "        "
   ]
  },
  {
   "cell_type": "code",
   "execution_count": 14,
   "metadata": {},
   "outputs": [],
   "source": [
    "# удалим столбец, он нам больше не нужен\n",
    "df = df.drop(labels='years_na', axis=1)"
   ]
  },
  {
   "cell_type": "code",
   "execution_count": 15,
   "metadata": {},
   "outputs": [
    {
     "data": {
      "text/plain": [
       "0"
      ]
     },
     "metadata": {},
     "output_type": "display_data"
    },
    {
     "data": {
      "text/plain": [
       "0"
      ]
     },
     "metadata": {},
     "output_type": "display_data"
    }
   ],
   "source": [
    "display(df['total_income'].isna().sum()) # проверим сколько осталось строк с пропущенными значениями\n",
    "display(df['days_employed'].isna().sum())"
   ]
  },
  {
   "cell_type": "markdown",
   "metadata": {},
   "source": [
    "**Вывод**"
   ]
  },
  {
   "cell_type": "markdown",
   "metadata": {},
   "source": [
    "Не всегда получается заполнять пропуски медианой \"максимально точно\", нужно балансировать стремление к \"точности\" и имеющиеся в реальности возможности."
   ]
  },
  {
   "cell_type": "markdown",
   "metadata": {},
   "source": [
    "### Исправим ошибки"
   ]
  },
  {
   "cell_type": "markdown",
   "metadata": {},
   "source": [
    "Проверим столбец возраста."
   ]
  },
  {
   "cell_type": "code",
   "execution_count": 16,
   "metadata": {},
   "outputs": [
    {
     "name": "stdout",
     "output_type": "stream",
     "text": [
      "[42 36 33 32 53 27 43 50 35 41 40 65 54 56 26 48 24 21 57 67 28 63 62 47\n",
      " 34 68 25 31 30 20 49 37 45 61 64 44 52 46 23 38 39 51  0 59 29 60 55 58\n",
      " 71 22 73 66 69 19 72 70 74 75]\n"
     ]
    }
   ],
   "source": [
    "print(df['dob_years'].unique()) "
   ]
  },
  {
   "cell_type": "code",
   "execution_count": 17,
   "metadata": {},
   "outputs": [
    {
     "name": "stdout",
     "output_type": "stream",
     "text": [
      "0\n",
      "75\n"
     ]
    }
   ],
   "source": [
    "# посмотрим на минимальный и максимальный возраст в столбце dob_years\n",
    "print(df['dob_years'].min())\n",
    "print(df['dob_years'].max())"
   ]
  },
  {
   "cell_type": "markdown",
   "metadata": {},
   "source": [
    "Минимальное значение возраста \"0 лет\" выглядит ошибкой во внесении данных."
   ]
  },
  {
   "cell_type": "code",
   "execution_count": 18,
   "metadata": {},
   "outputs": [
    {
     "data": {
      "text/html": [
       "<div>\n",
       "<style scoped>\n",
       "    .dataframe tbody tr th:only-of-type {\n",
       "        vertical-align: middle;\n",
       "    }\n",
       "\n",
       "    .dataframe tbody tr th {\n",
       "        vertical-align: top;\n",
       "    }\n",
       "\n",
       "    .dataframe thead th {\n",
       "        text-align: right;\n",
       "    }\n",
       "</style>\n",
       "<table border=\"1\" class=\"dataframe\">\n",
       "  <thead>\n",
       "    <tr style=\"text-align: right;\">\n",
       "      <th></th>\n",
       "      <th>children</th>\n",
       "      <th>days_employed</th>\n",
       "      <th>dob_years</th>\n",
       "      <th>education</th>\n",
       "      <th>education_id</th>\n",
       "      <th>family_status</th>\n",
       "      <th>family_status_id</th>\n",
       "      <th>gender</th>\n",
       "      <th>income_type</th>\n",
       "      <th>debt</th>\n",
       "      <th>total_income</th>\n",
       "      <th>purpose</th>\n",
       "    </tr>\n",
       "  </thead>\n",
       "  <tbody>\n",
       "    <tr>\n",
       "      <th>99</th>\n",
       "      <td>0</td>\n",
       "      <td>346541.618895</td>\n",
       "      <td>0</td>\n",
       "      <td>среднее</td>\n",
       "      <td>1</td>\n",
       "      <td>женат / замужем</td>\n",
       "      <td>0</td>\n",
       "      <td>F</td>\n",
       "      <td>пенсионер</td>\n",
       "      <td>0</td>\n",
       "      <td>71291.522491</td>\n",
       "      <td>автомобиль</td>\n",
       "    </tr>\n",
       "    <tr>\n",
       "      <th>149</th>\n",
       "      <td>0</td>\n",
       "      <td>2664.273168</td>\n",
       "      <td>0</td>\n",
       "      <td>среднее</td>\n",
       "      <td>1</td>\n",
       "      <td>в разводе</td>\n",
       "      <td>3</td>\n",
       "      <td>F</td>\n",
       "      <td>сотрудник</td>\n",
       "      <td>0</td>\n",
       "      <td>70176.435951</td>\n",
       "      <td>операции с жильем</td>\n",
       "    </tr>\n",
       "    <tr>\n",
       "      <th>270</th>\n",
       "      <td>3</td>\n",
       "      <td>1872.663186</td>\n",
       "      <td>0</td>\n",
       "      <td>среднее</td>\n",
       "      <td>1</td>\n",
       "      <td>женат / замужем</td>\n",
       "      <td>0</td>\n",
       "      <td>F</td>\n",
       "      <td>сотрудник</td>\n",
       "      <td>0</td>\n",
       "      <td>102166.458894</td>\n",
       "      <td>ремонт жилью</td>\n",
       "    </tr>\n",
       "    <tr>\n",
       "      <th>578</th>\n",
       "      <td>0</td>\n",
       "      <td>397856.565013</td>\n",
       "      <td>0</td>\n",
       "      <td>среднее</td>\n",
       "      <td>1</td>\n",
       "      <td>женат / замужем</td>\n",
       "      <td>0</td>\n",
       "      <td>F</td>\n",
       "      <td>пенсионер</td>\n",
       "      <td>0</td>\n",
       "      <td>97620.687042</td>\n",
       "      <td>строительство собственной недвижимости</td>\n",
       "    </tr>\n",
       "    <tr>\n",
       "      <th>1040</th>\n",
       "      <td>0</td>\n",
       "      <td>1158.029561</td>\n",
       "      <td>0</td>\n",
       "      <td>высшее</td>\n",
       "      <td>0</td>\n",
       "      <td>в разводе</td>\n",
       "      <td>3</td>\n",
       "      <td>F</td>\n",
       "      <td>компаньон</td>\n",
       "      <td>0</td>\n",
       "      <td>303994.134987</td>\n",
       "      <td>свой автомобиль</td>\n",
       "    </tr>\n",
       "  </tbody>\n",
       "</table>\n",
       "</div>"
      ],
      "text/plain": [
       "      children  days_employed  dob_years education  education_id  \\\n",
       "99           0  346541.618895          0   среднее             1   \n",
       "149          0    2664.273168          0   среднее             1   \n",
       "270          3    1872.663186          0   среднее             1   \n",
       "578          0  397856.565013          0   среднее             1   \n",
       "1040         0    1158.029561          0    высшее             0   \n",
       "\n",
       "        family_status  family_status_id gender income_type  debt  \\\n",
       "99    женат / замужем                 0      F   пенсионер     0   \n",
       "149         в разводе                 3      F   сотрудник     0   \n",
       "270   женат / замужем                 0      F   сотрудник     0   \n",
       "578   женат / замужем                 0      F   пенсионер     0   \n",
       "1040        в разводе                 3      F   компаньон     0   \n",
       "\n",
       "       total_income                                 purpose  \n",
       "99     71291.522491                              автомобиль  \n",
       "149    70176.435951                       операции с жильем  \n",
       "270   102166.458894                            ремонт жилью  \n",
       "578    97620.687042  строительство собственной недвижимости  \n",
       "1040  303994.134987                         свой автомобиль  "
      ]
     },
     "metadata": {},
     "output_type": "display_data"
    }
   ],
   "source": [
    "display(df[df['dob_years'] == 0].head()) # посмотрим на выборку с ошибочным указанием возраста"
   ]
  },
  {
   "cell_type": "code",
   "execution_count": 19,
   "metadata": {},
   "outputs": [
    {
     "name": "stdout",
     "output_type": "stream",
     "text": [
      "0.469222%\n"
     ]
    }
   ],
   "source": [
    "# посчитаем сколько негодных по возрасту строк\n",
    "print(f\"{len(df[df['dob_years'] == 0]) / df.shape[0]:%}\")"
   ]
  },
  {
   "cell_type": "markdown",
   "metadata": {},
   "source": [
    "Поскольку строчек с нулями в возрасте только 0,5% от всего объёма данных, и невозможно корректно восстановить возраст (нет зависимости ни от одного из имеющихся в распоряжении аналитика столбцов), их лучше удалить. "
   ]
  },
  {
   "cell_type": "code",
   "execution_count": 20,
   "metadata": {},
   "outputs": [],
   "source": [
    "# удалим строчки с нулями в столбце dob_years\n",
    "df = df.drop(df[df['dob_years'] == 0].index)"
   ]
  },
  {
   "cell_type": "code",
   "execution_count": 21,
   "metadata": {},
   "outputs": [
    {
     "name": "stdout",
     "output_type": "stream",
     "text": [
      "0\n"
     ]
    }
   ],
   "source": [
    "print(len(df[df['dob_years'] == 0])) # посмотрим на выборку с ошибочным указанием возраста"
   ]
  },
  {
   "cell_type": "code",
   "execution_count": 22,
   "metadata": {},
   "outputs": [
    {
     "name": "stdout",
     "output_type": "stream",
     "text": [
      "19\n",
      "75\n"
     ]
    }
   ],
   "source": [
    "# посмотрим на минимальный и максимальный возраст в столбце dob_years\n",
    "print(df['dob_years'].min())\n",
    "print(df['dob_years'].max())"
   ]
  },
  {
   "cell_type": "code",
   "execution_count": 23,
   "metadata": {},
   "outputs": [],
   "source": [
    "# введём категории возраста\n",
    "df['age_category'] = pd.cut(df['dob_years'], \n",
    "                              bins=[0,23,30,45,60,100],\n",
    "                              labels=['student', 'young_specialist','middle_specialist', 'senior_specialist', 'pensioner']\n",
    "                             )"
   ]
  },
  {
   "cell_type": "code",
   "execution_count": 24,
   "metadata": {},
   "outputs": [
    {
     "data": {
      "text/html": [
       "<div>\n",
       "<style scoped>\n",
       "    .dataframe tbody tr th:only-of-type {\n",
       "        vertical-align: middle;\n",
       "    }\n",
       "\n",
       "    .dataframe tbody tr th {\n",
       "        vertical-align: top;\n",
       "    }\n",
       "\n",
       "    .dataframe thead th {\n",
       "        text-align: right;\n",
       "    }\n",
       "</style>\n",
       "<table border=\"1\" class=\"dataframe\">\n",
       "  <thead>\n",
       "    <tr style=\"text-align: right;\">\n",
       "      <th></th>\n",
       "      <th>children</th>\n",
       "      <th>days_employed</th>\n",
       "      <th>dob_years</th>\n",
       "      <th>education</th>\n",
       "      <th>education_id</th>\n",
       "      <th>family_status</th>\n",
       "      <th>family_status_id</th>\n",
       "      <th>gender</th>\n",
       "      <th>income_type</th>\n",
       "      <th>debt</th>\n",
       "      <th>total_income</th>\n",
       "      <th>purpose</th>\n",
       "      <th>age_category</th>\n",
       "    </tr>\n",
       "  </thead>\n",
       "  <tbody>\n",
       "    <tr>\n",
       "      <th>0</th>\n",
       "      <td>1</td>\n",
       "      <td>8437.673028</td>\n",
       "      <td>42</td>\n",
       "      <td>высшее</td>\n",
       "      <td>0</td>\n",
       "      <td>женат / замужем</td>\n",
       "      <td>0</td>\n",
       "      <td>F</td>\n",
       "      <td>сотрудник</td>\n",
       "      <td>0</td>\n",
       "      <td>253875.639453</td>\n",
       "      <td>покупка жилья</td>\n",
       "      <td>middle_specialist</td>\n",
       "    </tr>\n",
       "    <tr>\n",
       "      <th>1</th>\n",
       "      <td>1</td>\n",
       "      <td>4024.803754</td>\n",
       "      <td>36</td>\n",
       "      <td>среднее</td>\n",
       "      <td>1</td>\n",
       "      <td>женат / замужем</td>\n",
       "      <td>0</td>\n",
       "      <td>F</td>\n",
       "      <td>сотрудник</td>\n",
       "      <td>0</td>\n",
       "      <td>112080.014102</td>\n",
       "      <td>приобретение автомобиля</td>\n",
       "      <td>middle_specialist</td>\n",
       "    </tr>\n",
       "    <tr>\n",
       "      <th>2</th>\n",
       "      <td>0</td>\n",
       "      <td>5623.422610</td>\n",
       "      <td>33</td>\n",
       "      <td>среднее</td>\n",
       "      <td>1</td>\n",
       "      <td>женат / замужем</td>\n",
       "      <td>0</td>\n",
       "      <td>M</td>\n",
       "      <td>сотрудник</td>\n",
       "      <td>0</td>\n",
       "      <td>145885.952297</td>\n",
       "      <td>покупка жилья</td>\n",
       "      <td>middle_specialist</td>\n",
       "    </tr>\n",
       "    <tr>\n",
       "      <th>3</th>\n",
       "      <td>3</td>\n",
       "      <td>4124.747207</td>\n",
       "      <td>32</td>\n",
       "      <td>среднее</td>\n",
       "      <td>1</td>\n",
       "      <td>женат / замужем</td>\n",
       "      <td>0</td>\n",
       "      <td>M</td>\n",
       "      <td>сотрудник</td>\n",
       "      <td>0</td>\n",
       "      <td>267628.550329</td>\n",
       "      <td>дополнительное образование</td>\n",
       "      <td>middle_specialist</td>\n",
       "    </tr>\n",
       "    <tr>\n",
       "      <th>4</th>\n",
       "      <td>0</td>\n",
       "      <td>340266.072047</td>\n",
       "      <td>53</td>\n",
       "      <td>среднее</td>\n",
       "      <td>1</td>\n",
       "      <td>гражданский брак</td>\n",
       "      <td>1</td>\n",
       "      <td>F</td>\n",
       "      <td>пенсионер</td>\n",
       "      <td>0</td>\n",
       "      <td>158616.077870</td>\n",
       "      <td>сыграть свадьбу</td>\n",
       "      <td>senior_specialist</td>\n",
       "    </tr>\n",
       "  </tbody>\n",
       "</table>\n",
       "</div>"
      ],
      "text/plain": [
       "   children  days_employed  dob_years education  education_id  \\\n",
       "0         1    8437.673028         42    высшее             0   \n",
       "1         1    4024.803754         36   среднее             1   \n",
       "2         0    5623.422610         33   среднее             1   \n",
       "3         3    4124.747207         32   среднее             1   \n",
       "4         0  340266.072047         53   среднее             1   \n",
       "\n",
       "      family_status  family_status_id gender income_type  debt   total_income  \\\n",
       "0   женат / замужем                 0      F   сотрудник     0  253875.639453   \n",
       "1   женат / замужем                 0      F   сотрудник     0  112080.014102   \n",
       "2   женат / замужем                 0      M   сотрудник     0  145885.952297   \n",
       "3   женат / замужем                 0      M   сотрудник     0  267628.550329   \n",
       "4  гражданский брак                 1      F   пенсионер     0  158616.077870   \n",
       "\n",
       "                      purpose       age_category  \n",
       "0               покупка жилья  middle_specialist  \n",
       "1     приобретение автомобиля  middle_specialist  \n",
       "2               покупка жилья  middle_specialist  \n",
       "3  дополнительное образование  middle_specialist  \n",
       "4             сыграть свадьбу  senior_specialist  "
      ]
     },
     "metadata": {},
     "output_type": "display_data"
    }
   ],
   "source": [
    "display(df.head()) # посмотрим что получилось"
   ]
  },
  {
   "cell_type": "markdown",
   "metadata": {},
   "source": [
    "Теперь у нас есть категории возраста, а в столбце с возрастом нет проблем.\n",
    "\n",
    "Проверим уникальные значения столбцеов children, education, family_status, gender и income_type"
   ]
  },
  {
   "cell_type": "code",
   "execution_count": 25,
   "metadata": {},
   "outputs": [
    {
     "name": "stdout",
     "output_type": "stream",
     "text": [
      "[ 1  0  3  2 -1  4 20  5]\n",
      "['высшее' 'среднее' 'неоконченное высшее' 'начальное' 'ученая степень']\n",
      "['женат / замужем' 'гражданский брак' 'вдовец / вдова' 'в разводе'\n",
      " 'Не женат / не замужем']\n",
      "['F' 'M' 'XNA']\n",
      "['сотрудник' 'пенсионер' 'компаньон' 'госслужащий' 'безработный'\n",
      " 'предприниматель' 'студент' 'в декрете']\n"
     ]
    }
   ],
   "source": [
    "print(df['children'].unique())\n",
    "print(df['education'].unique())\n",
    "print(df['family_status'].unique())\n",
    "print(df['gender'].unique())\n",
    "print(df['income_type'].unique())"
   ]
  },
  {
   "cell_type": "markdown",
   "metadata": {},
   "source": [
    "Что видим:\n",
    "1. кол-во детей не может быть отрицательным\n",
    "2. нужно проверить строки с 20 детьми - слишком большое количество, там может быть ошибка\n",
    "3. проблем в столбце education нет\n",
    "4. проблем в столбце family_status нет\n",
    "5. нужно проверить третий параметр пола\n",
    "6. проблем в столбце income_type нет"
   ]
  },
  {
   "cell_type": "markdown",
   "metadata": {},
   "source": [
    "Начнём с третьего параметра пола."
   ]
  },
  {
   "cell_type": "code",
   "execution_count": 26,
   "metadata": {},
   "outputs": [
    {
     "data": {
      "text/html": [
       "<div>\n",
       "<style scoped>\n",
       "    .dataframe tbody tr th:only-of-type {\n",
       "        vertical-align: middle;\n",
       "    }\n",
       "\n",
       "    .dataframe tbody tr th {\n",
       "        vertical-align: top;\n",
       "    }\n",
       "\n",
       "    .dataframe thead th {\n",
       "        text-align: right;\n",
       "    }\n",
       "</style>\n",
       "<table border=\"1\" class=\"dataframe\">\n",
       "  <thead>\n",
       "    <tr style=\"text-align: right;\">\n",
       "      <th></th>\n",
       "      <th>children</th>\n",
       "      <th>days_employed</th>\n",
       "      <th>dob_years</th>\n",
       "      <th>education</th>\n",
       "      <th>education_id</th>\n",
       "      <th>family_status</th>\n",
       "      <th>family_status_id</th>\n",
       "      <th>gender</th>\n",
       "      <th>income_type</th>\n",
       "      <th>debt</th>\n",
       "      <th>total_income</th>\n",
       "      <th>purpose</th>\n",
       "      <th>age_category</th>\n",
       "    </tr>\n",
       "  </thead>\n",
       "  <tbody>\n",
       "    <tr>\n",
       "      <th>10701</th>\n",
       "      <td>0</td>\n",
       "      <td>2358.600502</td>\n",
       "      <td>24</td>\n",
       "      <td>неоконченное высшее</td>\n",
       "      <td>2</td>\n",
       "      <td>гражданский брак</td>\n",
       "      <td>1</td>\n",
       "      <td>XNA</td>\n",
       "      <td>компаньон</td>\n",
       "      <td>0</td>\n",
       "      <td>203905.157261</td>\n",
       "      <td>покупка недвижимости</td>\n",
       "      <td>young_specialist</td>\n",
       "    </tr>\n",
       "  </tbody>\n",
       "</table>\n",
       "</div>"
      ],
      "text/plain": [
       "       children  days_employed  dob_years            education  education_id  \\\n",
       "10701         0    2358.600502         24  неоконченное высшее             2   \n",
       "\n",
       "          family_status  family_status_id gender income_type  debt  \\\n",
       "10701  гражданский брак                 1    XNA   компаньон     0   \n",
       "\n",
       "        total_income               purpose      age_category  \n",
       "10701  203905.157261  покупка недвижимости  young_specialist  "
      ]
     },
     "metadata": {},
     "output_type": "display_data"
    }
   ],
   "source": [
    "display(df[df['gender'] == 'XNA'])"
   ]
  },
  {
   "cell_type": "markdown",
   "metadata": {},
   "source": [
    "У нас только одна строчка с неуказанным полом. Восстановить значение пола мы не можем (у нас нет для этого данных), поэтому удалим эту строчку для того, чтобы остальные данные были корректны."
   ]
  },
  {
   "cell_type": "code",
   "execution_count": 27,
   "metadata": {},
   "outputs": [],
   "source": [
    "index = df[df['gender'] == 'XNA'].index\n",
    "df.drop (index, inplace = True)"
   ]
  },
  {
   "cell_type": "code",
   "execution_count": 28,
   "metadata": {},
   "outputs": [
    {
     "data": {
      "text/html": [
       "<div>\n",
       "<style scoped>\n",
       "    .dataframe tbody tr th:only-of-type {\n",
       "        vertical-align: middle;\n",
       "    }\n",
       "\n",
       "    .dataframe tbody tr th {\n",
       "        vertical-align: top;\n",
       "    }\n",
       "\n",
       "    .dataframe thead th {\n",
       "        text-align: right;\n",
       "    }\n",
       "</style>\n",
       "<table border=\"1\" class=\"dataframe\">\n",
       "  <thead>\n",
       "    <tr style=\"text-align: right;\">\n",
       "      <th></th>\n",
       "      <th>children</th>\n",
       "      <th>days_employed</th>\n",
       "      <th>dob_years</th>\n",
       "      <th>education</th>\n",
       "      <th>education_id</th>\n",
       "      <th>family_status</th>\n",
       "      <th>family_status_id</th>\n",
       "      <th>gender</th>\n",
       "      <th>income_type</th>\n",
       "      <th>debt</th>\n",
       "      <th>total_income</th>\n",
       "      <th>purpose</th>\n",
       "      <th>age_category</th>\n",
       "    </tr>\n",
       "  </thead>\n",
       "  <tbody>\n",
       "  </tbody>\n",
       "</table>\n",
       "</div>"
      ],
      "text/plain": [
       "Empty DataFrame\n",
       "Columns: [children, days_employed, dob_years, education, education_id, family_status, family_status_id, gender, income_type, debt, total_income, purpose, age_category]\n",
       "Index: []"
      ]
     },
     "metadata": {},
     "output_type": "display_data"
    }
   ],
   "source": [
    "display(df[df['gender'] == 'XNA']) # проверим, удалился ли нужная строка"
   ]
  },
  {
   "cell_type": "markdown",
   "metadata": {},
   "source": [
    "Уберём проблемы в стобце с количеством детей:"
   ]
  },
  {
   "cell_type": "code",
   "execution_count": 29,
   "metadata": {},
   "outputs": [],
   "source": [
    "df['children'] = df['children'].abs() # сделаем кол-во детей всегда положительным числом"
   ]
  },
  {
   "cell_type": "code",
   "execution_count": 30,
   "metadata": {},
   "outputs": [
    {
     "name": "stdout",
     "output_type": "stream",
     "text": [
      "[ 1  0  3  2  4 20  5]\n"
     ]
    }
   ],
   "source": [
    "# проверим, получилось ли убрать отрицательное значение\n",
    "df_unique_children = df['children'].unique()\n",
    "print(df_unique_children)"
   ]
  },
  {
   "cell_type": "markdown",
   "metadata": {},
   "source": [
    "Посмотрим на строчки с 20-ю детьми"
   ]
  },
  {
   "cell_type": "code",
   "execution_count": 31,
   "metadata": {},
   "outputs": [
    {
     "data": {
      "text/html": [
       "<div>\n",
       "<style scoped>\n",
       "    .dataframe tbody tr th:only-of-type {\n",
       "        vertical-align: middle;\n",
       "    }\n",
       "\n",
       "    .dataframe tbody tr th {\n",
       "        vertical-align: top;\n",
       "    }\n",
       "\n",
       "    .dataframe thead th {\n",
       "        text-align: right;\n",
       "    }\n",
       "</style>\n",
       "<table border=\"1\" class=\"dataframe\">\n",
       "  <thead>\n",
       "    <tr style=\"text-align: right;\">\n",
       "      <th></th>\n",
       "      <th>children</th>\n",
       "      <th>days_employed</th>\n",
       "      <th>dob_years</th>\n",
       "      <th>education</th>\n",
       "      <th>education_id</th>\n",
       "      <th>family_status</th>\n",
       "      <th>family_status_id</th>\n",
       "      <th>gender</th>\n",
       "      <th>income_type</th>\n",
       "      <th>debt</th>\n",
       "      <th>total_income</th>\n",
       "      <th>purpose</th>\n",
       "      <th>age_category</th>\n",
       "    </tr>\n",
       "  </thead>\n",
       "  <tbody>\n",
       "    <tr>\n",
       "      <th>606</th>\n",
       "      <td>20</td>\n",
       "      <td>880.221113</td>\n",
       "      <td>21</td>\n",
       "      <td>среднее</td>\n",
       "      <td>1</td>\n",
       "      <td>женат / замужем</td>\n",
       "      <td>0</td>\n",
       "      <td>M</td>\n",
       "      <td>компаньон</td>\n",
       "      <td>0</td>\n",
       "      <td>145334.865002</td>\n",
       "      <td>покупка жилья</td>\n",
       "      <td>student</td>\n",
       "    </tr>\n",
       "    <tr>\n",
       "      <th>720</th>\n",
       "      <td>20</td>\n",
       "      <td>855.595512</td>\n",
       "      <td>44</td>\n",
       "      <td>среднее</td>\n",
       "      <td>1</td>\n",
       "      <td>женат / замужем</td>\n",
       "      <td>0</td>\n",
       "      <td>F</td>\n",
       "      <td>компаньон</td>\n",
       "      <td>0</td>\n",
       "      <td>112998.738649</td>\n",
       "      <td>покупка недвижимости</td>\n",
       "      <td>middle_specialist</td>\n",
       "    </tr>\n",
       "    <tr>\n",
       "      <th>1074</th>\n",
       "      <td>20</td>\n",
       "      <td>3310.411598</td>\n",
       "      <td>56</td>\n",
       "      <td>среднее</td>\n",
       "      <td>1</td>\n",
       "      <td>женат / замужем</td>\n",
       "      <td>0</td>\n",
       "      <td>F</td>\n",
       "      <td>сотрудник</td>\n",
       "      <td>1</td>\n",
       "      <td>229518.537004</td>\n",
       "      <td>получение образования</td>\n",
       "      <td>senior_specialist</td>\n",
       "    </tr>\n",
       "    <tr>\n",
       "      <th>2510</th>\n",
       "      <td>20</td>\n",
       "      <td>2714.161249</td>\n",
       "      <td>59</td>\n",
       "      <td>высшее</td>\n",
       "      <td>0</td>\n",
       "      <td>вдовец / вдова</td>\n",
       "      <td>2</td>\n",
       "      <td>F</td>\n",
       "      <td>сотрудник</td>\n",
       "      <td>0</td>\n",
       "      <td>264474.835577</td>\n",
       "      <td>операции с коммерческой недвижимостью</td>\n",
       "      <td>senior_specialist</td>\n",
       "    </tr>\n",
       "    <tr>\n",
       "      <th>3302</th>\n",
       "      <td>20</td>\n",
       "      <td>2047.754733</td>\n",
       "      <td>35</td>\n",
       "      <td>среднее</td>\n",
       "      <td>1</td>\n",
       "      <td>Не женат / не замужем</td>\n",
       "      <td>4</td>\n",
       "      <td>F</td>\n",
       "      <td>госслужащий</td>\n",
       "      <td>0</td>\n",
       "      <td>138626.756600</td>\n",
       "      <td>профильное образование</td>\n",
       "      <td>middle_specialist</td>\n",
       "    </tr>\n",
       "    <tr>\n",
       "      <th>...</th>\n",
       "      <td>...</td>\n",
       "      <td>...</td>\n",
       "      <td>...</td>\n",
       "      <td>...</td>\n",
       "      <td>...</td>\n",
       "      <td>...</td>\n",
       "      <td>...</td>\n",
       "      <td>...</td>\n",
       "      <td>...</td>\n",
       "      <td>...</td>\n",
       "      <td>...</td>\n",
       "      <td>...</td>\n",
       "      <td>...</td>\n",
       "    </tr>\n",
       "    <tr>\n",
       "      <th>21008</th>\n",
       "      <td>20</td>\n",
       "      <td>1240.257910</td>\n",
       "      <td>40</td>\n",
       "      <td>среднее</td>\n",
       "      <td>1</td>\n",
       "      <td>женат / замужем</td>\n",
       "      <td>0</td>\n",
       "      <td>F</td>\n",
       "      <td>сотрудник</td>\n",
       "      <td>1</td>\n",
       "      <td>133524.010303</td>\n",
       "      <td>свой автомобиль</td>\n",
       "      <td>middle_specialist</td>\n",
       "    </tr>\n",
       "    <tr>\n",
       "      <th>21325</th>\n",
       "      <td>20</td>\n",
       "      <td>601.174883</td>\n",
       "      <td>37</td>\n",
       "      <td>среднее</td>\n",
       "      <td>1</td>\n",
       "      <td>женат / замужем</td>\n",
       "      <td>0</td>\n",
       "      <td>F</td>\n",
       "      <td>компаньон</td>\n",
       "      <td>0</td>\n",
       "      <td>102986.065978</td>\n",
       "      <td>профильное образование</td>\n",
       "      <td>middle_specialist</td>\n",
       "    </tr>\n",
       "    <tr>\n",
       "      <th>21390</th>\n",
       "      <td>20</td>\n",
       "      <td>1039.186009</td>\n",
       "      <td>53</td>\n",
       "      <td>среднее</td>\n",
       "      <td>1</td>\n",
       "      <td>женат / замужем</td>\n",
       "      <td>0</td>\n",
       "      <td>M</td>\n",
       "      <td>компаньон</td>\n",
       "      <td>0</td>\n",
       "      <td>151652.625895</td>\n",
       "      <td>покупка жилой недвижимости</td>\n",
       "      <td>senior_specialist</td>\n",
       "    </tr>\n",
       "    <tr>\n",
       "      <th>21404</th>\n",
       "      <td>20</td>\n",
       "      <td>494.788448</td>\n",
       "      <td>52</td>\n",
       "      <td>среднее</td>\n",
       "      <td>1</td>\n",
       "      <td>женат / замужем</td>\n",
       "      <td>0</td>\n",
       "      <td>M</td>\n",
       "      <td>компаньон</td>\n",
       "      <td>0</td>\n",
       "      <td>156629.683642</td>\n",
       "      <td>операции со своей недвижимостью</td>\n",
       "      <td>senior_specialist</td>\n",
       "    </tr>\n",
       "    <tr>\n",
       "      <th>21491</th>\n",
       "      <td>20</td>\n",
       "      <td>173.954460</td>\n",
       "      <td>27</td>\n",
       "      <td>среднее</td>\n",
       "      <td>1</td>\n",
       "      <td>женат / замужем</td>\n",
       "      <td>0</td>\n",
       "      <td>F</td>\n",
       "      <td>сотрудник</td>\n",
       "      <td>0</td>\n",
       "      <td>155520.899688</td>\n",
       "      <td>на покупку подержанного автомобиля</td>\n",
       "      <td>young_specialist</td>\n",
       "    </tr>\n",
       "  </tbody>\n",
       "</table>\n",
       "<p>75 rows × 13 columns</p>\n",
       "</div>"
      ],
      "text/plain": [
       "       children  days_employed  dob_years education  education_id  \\\n",
       "606          20     880.221113         21   среднее             1   \n",
       "720          20     855.595512         44   среднее             1   \n",
       "1074         20    3310.411598         56   среднее             1   \n",
       "2510         20    2714.161249         59    высшее             0   \n",
       "3302         20    2047.754733         35   среднее             1   \n",
       "...         ...            ...        ...       ...           ...   \n",
       "21008        20    1240.257910         40   среднее             1   \n",
       "21325        20     601.174883         37   среднее             1   \n",
       "21390        20    1039.186009         53   среднее             1   \n",
       "21404        20     494.788448         52   среднее             1   \n",
       "21491        20     173.954460         27   среднее             1   \n",
       "\n",
       "               family_status  family_status_id gender  income_type  debt  \\\n",
       "606          женат / замужем                 0      M    компаньон     0   \n",
       "720          женат / замужем                 0      F    компаньон     0   \n",
       "1074         женат / замужем                 0      F    сотрудник     1   \n",
       "2510          вдовец / вдова                 2      F    сотрудник     0   \n",
       "3302   Не женат / не замужем                 4      F  госслужащий     0   \n",
       "...                      ...               ...    ...          ...   ...   \n",
       "21008        женат / замужем                 0      F    сотрудник     1   \n",
       "21325        женат / замужем                 0      F    компаньон     0   \n",
       "21390        женат / замужем                 0      M    компаньон     0   \n",
       "21404        женат / замужем                 0      M    компаньон     0   \n",
       "21491        женат / замужем                 0      F    сотрудник     0   \n",
       "\n",
       "        total_income                                purpose       age_category  \n",
       "606    145334.865002                          покупка жилья            student  \n",
       "720    112998.738649                   покупка недвижимости  middle_specialist  \n",
       "1074   229518.537004                  получение образования  senior_specialist  \n",
       "2510   264474.835577  операции с коммерческой недвижимостью  senior_specialist  \n",
       "3302   138626.756600                 профильное образование  middle_specialist  \n",
       "...              ...                                    ...                ...  \n",
       "21008  133524.010303                        свой автомобиль  middle_specialist  \n",
       "21325  102986.065978                 профильное образование  middle_specialist  \n",
       "21390  151652.625895             покупка жилой недвижимости  senior_specialist  \n",
       "21404  156629.683642        операции со своей недвижимостью  senior_specialist  \n",
       "21491  155520.899688     на покупку подержанного автомобиля   young_specialist  \n",
       "\n",
       "[75 rows x 13 columns]"
      ]
     },
     "metadata": {},
     "output_type": "display_data"
    }
   ],
   "source": [
    "display(df[df['children'] == 20])"
   ]
  },
  {
   "cell_type": "markdown",
   "metadata": {},
   "source": [
    "Я сильно сомневаюсь, что в одну выборку попало целых 75 семей с 20-ю детьми. \n",
    "Пример 3302 строчки: женщина-госслужащий, не замужем и... 20 детей в 35 лет? Это физически крайне маловероятно (а если бы действительно было так - её бы знала вся страна).\n",
    "Учитывая, что о семьях с 20 родными детьми пишут отдельные статьи, и обычно это примерно 1-2 семьи на страну (пример статьи https://www.miloserdie.ru/article/samye-mnogodetnye-semi-v-mire/), мы должны предполагать ошибку во внесении данных.\n",
    "Нужно изменить количество детей в таких строчках с \"20\" на \"2\"."
   ]
  },
  {
   "cell_type": "code",
   "execution_count": 32,
   "metadata": {},
   "outputs": [],
   "source": [
    "# соберём функцию для замены возраста. \n",
    "def children_count(column_name):\n",
    "    if column_name == 20:\n",
    "        return 2\n",
    "    else:\n",
    "        return column_name"
   ]
  },
  {
   "cell_type": "code",
   "execution_count": 33,
   "metadata": {},
   "outputs": [],
   "source": [
    "# добавим столбец с исправленным значением количества детей\n",
    "df['children_correct'] = df['children'].apply(children_count)"
   ]
  },
  {
   "cell_type": "markdown",
   "metadata": {},
   "source": [
    "Теперь можно удалить столбец children как содержащий некорректные данные."
   ]
  },
  {
   "cell_type": "code",
   "execution_count": 34,
   "metadata": {},
   "outputs": [],
   "source": [
    "df = df.drop(labels='children', axis=1)"
   ]
  },
  {
   "cell_type": "markdown",
   "metadata": {},
   "source": [
    "Переименуем столбец children_correct, а то название неудобно отображается в таблице."
   ]
  },
  {
   "cell_type": "code",
   "execution_count": 35,
   "metadata": {},
   "outputs": [
    {
     "data": {
      "text/plain": [
       "Index(['days_employed', 'dob_years', 'education', 'education_id',\n",
       "       'family_status', 'family_status_id', 'gender', 'income_type', 'debt',\n",
       "       'total_income', 'purpose', 'age_category', 'children_correct'],\n",
       "      dtype='object')"
      ]
     },
     "execution_count": 35,
     "metadata": {},
     "output_type": "execute_result"
    }
   ],
   "source": [
    "df.columns"
   ]
  },
  {
   "cell_type": "code",
   "execution_count": 36,
   "metadata": {},
   "outputs": [],
   "source": [
    "df.rename(columns={'children_correct': 'children'}, inplace=True)"
   ]
  },
  {
   "cell_type": "code",
   "execution_count": 37,
   "metadata": {},
   "outputs": [
    {
     "data": {
      "text/html": [
       "<div>\n",
       "<style scoped>\n",
       "    .dataframe tbody tr th:only-of-type {\n",
       "        vertical-align: middle;\n",
       "    }\n",
       "\n",
       "    .dataframe tbody tr th {\n",
       "        vertical-align: top;\n",
       "    }\n",
       "\n",
       "    .dataframe thead th {\n",
       "        text-align: right;\n",
       "    }\n",
       "</style>\n",
       "<table border=\"1\" class=\"dataframe\">\n",
       "  <thead>\n",
       "    <tr style=\"text-align: right;\">\n",
       "      <th></th>\n",
       "      <th>days_employed</th>\n",
       "      <th>dob_years</th>\n",
       "      <th>education</th>\n",
       "      <th>education_id</th>\n",
       "      <th>family_status</th>\n",
       "      <th>family_status_id</th>\n",
       "      <th>gender</th>\n",
       "      <th>income_type</th>\n",
       "      <th>debt</th>\n",
       "      <th>total_income</th>\n",
       "      <th>purpose</th>\n",
       "      <th>age_category</th>\n",
       "      <th>children</th>\n",
       "    </tr>\n",
       "  </thead>\n",
       "  <tbody>\n",
       "    <tr>\n",
       "      <th>0</th>\n",
       "      <td>8437.673028</td>\n",
       "      <td>42</td>\n",
       "      <td>высшее</td>\n",
       "      <td>0</td>\n",
       "      <td>женат / замужем</td>\n",
       "      <td>0</td>\n",
       "      <td>F</td>\n",
       "      <td>сотрудник</td>\n",
       "      <td>0</td>\n",
       "      <td>253875.639453</td>\n",
       "      <td>покупка жилья</td>\n",
       "      <td>middle_specialist</td>\n",
       "      <td>1</td>\n",
       "    </tr>\n",
       "    <tr>\n",
       "      <th>1</th>\n",
       "      <td>4024.803754</td>\n",
       "      <td>36</td>\n",
       "      <td>среднее</td>\n",
       "      <td>1</td>\n",
       "      <td>женат / замужем</td>\n",
       "      <td>0</td>\n",
       "      <td>F</td>\n",
       "      <td>сотрудник</td>\n",
       "      <td>0</td>\n",
       "      <td>112080.014102</td>\n",
       "      <td>приобретение автомобиля</td>\n",
       "      <td>middle_specialist</td>\n",
       "      <td>1</td>\n",
       "    </tr>\n",
       "    <tr>\n",
       "      <th>2</th>\n",
       "      <td>5623.422610</td>\n",
       "      <td>33</td>\n",
       "      <td>среднее</td>\n",
       "      <td>1</td>\n",
       "      <td>женат / замужем</td>\n",
       "      <td>0</td>\n",
       "      <td>M</td>\n",
       "      <td>сотрудник</td>\n",
       "      <td>0</td>\n",
       "      <td>145885.952297</td>\n",
       "      <td>покупка жилья</td>\n",
       "      <td>middle_specialist</td>\n",
       "      <td>0</td>\n",
       "    </tr>\n",
       "    <tr>\n",
       "      <th>3</th>\n",
       "      <td>4124.747207</td>\n",
       "      <td>32</td>\n",
       "      <td>среднее</td>\n",
       "      <td>1</td>\n",
       "      <td>женат / замужем</td>\n",
       "      <td>0</td>\n",
       "      <td>M</td>\n",
       "      <td>сотрудник</td>\n",
       "      <td>0</td>\n",
       "      <td>267628.550329</td>\n",
       "      <td>дополнительное образование</td>\n",
       "      <td>middle_specialist</td>\n",
       "      <td>3</td>\n",
       "    </tr>\n",
       "    <tr>\n",
       "      <th>4</th>\n",
       "      <td>340266.072047</td>\n",
       "      <td>53</td>\n",
       "      <td>среднее</td>\n",
       "      <td>1</td>\n",
       "      <td>гражданский брак</td>\n",
       "      <td>1</td>\n",
       "      <td>F</td>\n",
       "      <td>пенсионер</td>\n",
       "      <td>0</td>\n",
       "      <td>158616.077870</td>\n",
       "      <td>сыграть свадьбу</td>\n",
       "      <td>senior_specialist</td>\n",
       "      <td>0</td>\n",
       "    </tr>\n",
       "  </tbody>\n",
       "</table>\n",
       "</div>"
      ],
      "text/plain": [
       "   days_employed  dob_years education  education_id     family_status  \\\n",
       "0    8437.673028         42    высшее             0   женат / замужем   \n",
       "1    4024.803754         36   среднее             1   женат / замужем   \n",
       "2    5623.422610         33   среднее             1   женат / замужем   \n",
       "3    4124.747207         32   среднее             1   женат / замужем   \n",
       "4  340266.072047         53   среднее             1  гражданский брак   \n",
       "\n",
       "   family_status_id gender income_type  debt   total_income  \\\n",
       "0                 0      F   сотрудник     0  253875.639453   \n",
       "1                 0      F   сотрудник     0  112080.014102   \n",
       "2                 0      M   сотрудник     0  145885.952297   \n",
       "3                 0      M   сотрудник     0  267628.550329   \n",
       "4                 1      F   пенсионер     0  158616.077870   \n",
       "\n",
       "                      purpose       age_category  children  \n",
       "0               покупка жилья  middle_specialist         1  \n",
       "1     приобретение автомобиля  middle_specialist         1  \n",
       "2               покупка жилья  middle_specialist         0  \n",
       "3  дополнительное образование  middle_specialist         3  \n",
       "4             сыграть свадьбу  senior_specialist         0  "
      ]
     },
     "metadata": {},
     "output_type": "display_data"
    }
   ],
   "source": [
    "display(df.head()) # посмотрим что получилось"
   ]
  },
  {
   "cell_type": "markdown",
   "metadata": {},
   "source": [
    "Переведём данные в столбце days_employed в годы."
   ]
  },
  {
   "cell_type": "code",
   "execution_count": 38,
   "metadata": {},
   "outputs": [],
   "source": [
    "df['days_employed'] = df['days_employed']/365"
   ]
  },
  {
   "cell_type": "code",
   "execution_count": 39,
   "metadata": {},
   "outputs": [
    {
     "data": {
      "text/plain": [
       "<AxesSubplot:xlabel='dob_years', ylabel='days_employed'>"
      ]
     },
     "execution_count": 39,
     "metadata": {},
     "output_type": "execute_result"
    },
    {
     "data": {
      "image/png": "[encoded data removed]",
      "text/plain": [
       "<Figure size 432x288 with 1 Axes>"
      ]
     },
     "metadata": {
      "needs_background": "light"
     },
     "output_type": "display_data"
    }
   ],
   "source": [
    "# посмотрим на данные в столбце days_employed\n",
    "sns.scatterplot(data=df, x=df['dob_years'], y=df['days_employed'])"
   ]
  },
  {
   "cell_type": "code",
   "execution_count": 40,
   "metadata": {},
   "outputs": [],
   "source": [
    "# значения в 1000 лет работы выглядят как явные ошибки. Предположим, что в таком случае исходные данные были не дни, а часы.\n",
    "# разделим дополнительно на 24, чтобы получить дни - только для тех случаев, где годы работы больше 100 лет\n",
    "def days_years(cell_value):\n",
    "    if cell_value > 100.0:\n",
    "        return cell_value / 24\n",
    "    return cell_value"
   ]
  },
  {
   "cell_type": "code",
   "execution_count": 41,
   "metadata": {},
   "outputs": [],
   "source": [
    "df['years_employed'] = df['days_employed'].apply(days_years)"
   ]
  },
  {
   "cell_type": "markdown",
   "metadata": {},
   "source": [
    "Посмотрим на диаграмму ещё раз"
   ]
  },
  {
   "cell_type": "code",
   "execution_count": 42,
   "metadata": {},
   "outputs": [
    {
     "data": {
      "text/plain": [
       "<AxesSubplot:xlabel='dob_years', ylabel='years_employed'>"
      ]
     },
     "execution_count": 42,
     "metadata": {},
     "output_type": "execute_result"
    },
    {
     "data": {
      "image/png": "[encoded data removed]",
      "text/plain": [
       "<Figure size 432x288 with 1 Axes>"
      ]
     },
     "metadata": {
      "needs_background": "light"
     },
     "output_type": "display_data"
    }
   ],
   "source": [
    "sns.scatterplot(data=df, x=df['dob_years'], y=df['years_employed'])"
   ]
  },
  {
   "cell_type": "markdown",
   "metadata": {},
   "source": [
    "Судя по диаграмме, у нас ещё есть массив записей \"с неочевидными трудовыми подвигами\" (верхняя \"полоса\" распределения), однако это могут быть люди, проживающие на Крайнем Севере или работающие в тяжёлых условиях (или и то, и другое), данных для проверки гипотезы у нас нет - поэтому оставим всё как есть.\n",
    "Столбец days_employed удалю - все данные сейчас в уже обработанном виде лежат в столбце years_employed."
   ]
  },
  {
   "cell_type": "code",
   "execution_count": 43,
   "metadata": {},
   "outputs": [
    {
     "name": "stdout",
     "output_type": "stream",
     "text": [
      "dob_years           0\n",
      "education           0\n",
      "education_id        0\n",
      "family_status       0\n",
      "family_status_id    0\n",
      "gender              0\n",
      "income_type         0\n",
      "debt                0\n",
      "total_income        0\n",
      "purpose             0\n",
      "age_category        0\n",
      "children            0\n",
      "years_employed      0\n",
      "dtype: int64\n",
      "(21423, 13)\n"
     ]
    }
   ],
   "source": [
    "df = df.drop(labels='days_employed', axis=1) # удалим столбец с днями - у нас уже есть столбец с годами.\n",
    "print(df.isna().sum())\n",
    "print(df.shape)"
   ]
  },
  {
   "cell_type": "code",
   "execution_count": 44,
   "metadata": {},
   "outputs": [],
   "source": [
    "# отбросим дробные числа в столбце years_employed - точность после запятой выглядит не нужной.\n",
    "df['years_employed'] = df['years_employed'].astype('int')"
   ]
  },
  {
   "cell_type": "code",
   "execution_count": 45,
   "metadata": {},
   "outputs": [
    {
     "data": {
      "text/html": [
       "<div>\n",
       "<style scoped>\n",
       "    .dataframe tbody tr th:only-of-type {\n",
       "        vertical-align: middle;\n",
       "    }\n",
       "\n",
       "    .dataframe tbody tr th {\n",
       "        vertical-align: top;\n",
       "    }\n",
       "\n",
       "    .dataframe thead th {\n",
       "        text-align: right;\n",
       "    }\n",
       "</style>\n",
       "<table border=\"1\" class=\"dataframe\">\n",
       "  <thead>\n",
       "    <tr style=\"text-align: right;\">\n",
       "      <th></th>\n",
       "      <th>dob_years</th>\n",
       "      <th>education</th>\n",
       "      <th>education_id</th>\n",
       "      <th>family_status</th>\n",
       "      <th>family_status_id</th>\n",
       "      <th>gender</th>\n",
       "      <th>income_type</th>\n",
       "      <th>debt</th>\n",
       "      <th>total_income</th>\n",
       "      <th>purpose</th>\n",
       "      <th>age_category</th>\n",
       "      <th>children</th>\n",
       "      <th>years_employed</th>\n",
       "    </tr>\n",
       "  </thead>\n",
       "  <tbody>\n",
       "    <tr>\n",
       "      <th>0</th>\n",
       "      <td>42</td>\n",
       "      <td>высшее</td>\n",
       "      <td>0</td>\n",
       "      <td>женат / замужем</td>\n",
       "      <td>0</td>\n",
       "      <td>F</td>\n",
       "      <td>сотрудник</td>\n",
       "      <td>0</td>\n",
       "      <td>253875.639453</td>\n",
       "      <td>покупка жилья</td>\n",
       "      <td>middle_specialist</td>\n",
       "      <td>1</td>\n",
       "      <td>23</td>\n",
       "    </tr>\n",
       "    <tr>\n",
       "      <th>1</th>\n",
       "      <td>36</td>\n",
       "      <td>среднее</td>\n",
       "      <td>1</td>\n",
       "      <td>женат / замужем</td>\n",
       "      <td>0</td>\n",
       "      <td>F</td>\n",
       "      <td>сотрудник</td>\n",
       "      <td>0</td>\n",
       "      <td>112080.014102</td>\n",
       "      <td>приобретение автомобиля</td>\n",
       "      <td>middle_specialist</td>\n",
       "      <td>1</td>\n",
       "      <td>11</td>\n",
       "    </tr>\n",
       "    <tr>\n",
       "      <th>2</th>\n",
       "      <td>33</td>\n",
       "      <td>среднее</td>\n",
       "      <td>1</td>\n",
       "      <td>женат / замужем</td>\n",
       "      <td>0</td>\n",
       "      <td>M</td>\n",
       "      <td>сотрудник</td>\n",
       "      <td>0</td>\n",
       "      <td>145885.952297</td>\n",
       "      <td>покупка жилья</td>\n",
       "      <td>middle_specialist</td>\n",
       "      <td>0</td>\n",
       "      <td>15</td>\n",
       "    </tr>\n",
       "    <tr>\n",
       "      <th>3</th>\n",
       "      <td>32</td>\n",
       "      <td>среднее</td>\n",
       "      <td>1</td>\n",
       "      <td>женат / замужем</td>\n",
       "      <td>0</td>\n",
       "      <td>M</td>\n",
       "      <td>сотрудник</td>\n",
       "      <td>0</td>\n",
       "      <td>267628.550329</td>\n",
       "      <td>дополнительное образование</td>\n",
       "      <td>middle_specialist</td>\n",
       "      <td>3</td>\n",
       "      <td>11</td>\n",
       "    </tr>\n",
       "    <tr>\n",
       "      <th>4</th>\n",
       "      <td>53</td>\n",
       "      <td>среднее</td>\n",
       "      <td>1</td>\n",
       "      <td>гражданский брак</td>\n",
       "      <td>1</td>\n",
       "      <td>F</td>\n",
       "      <td>пенсионер</td>\n",
       "      <td>0</td>\n",
       "      <td>158616.077870</td>\n",
       "      <td>сыграть свадьбу</td>\n",
       "      <td>senior_specialist</td>\n",
       "      <td>0</td>\n",
       "      <td>38</td>\n",
       "    </tr>\n",
       "  </tbody>\n",
       "</table>\n",
       "</div>"
      ],
      "text/plain": [
       "   dob_years education  education_id     family_status  family_status_id  \\\n",
       "0         42    высшее             0   женат / замужем                 0   \n",
       "1         36   среднее             1   женат / замужем                 0   \n",
       "2         33   среднее             1   женат / замужем                 0   \n",
       "3         32   среднее             1   женат / замужем                 0   \n",
       "4         53   среднее             1  гражданский брак                 1   \n",
       "\n",
       "  gender income_type  debt   total_income                     purpose  \\\n",
       "0      F   сотрудник     0  253875.639453               покупка жилья   \n",
       "1      F   сотрудник     0  112080.014102     приобретение автомобиля   \n",
       "2      M   сотрудник     0  145885.952297               покупка жилья   \n",
       "3      M   сотрудник     0  267628.550329  дополнительное образование   \n",
       "4      F   пенсионер     0  158616.077870             сыграть свадьбу   \n",
       "\n",
       "        age_category  children  years_employed  \n",
       "0  middle_specialist         1              23  \n",
       "1  middle_specialist         1              11  \n",
       "2  middle_specialist         0              15  \n",
       "3  middle_specialist         3              11  \n",
       "4  senior_specialist         0              38  "
      ]
     },
     "metadata": {},
     "output_type": "display_data"
    }
   ],
   "source": [
    "display(df.head()) # посмотрим что получилось"
   ]
  },
  {
   "cell_type": "markdown",
   "metadata": {},
   "source": [
    "**Вывод**"
   ]
  },
  {
   "cell_type": "markdown",
   "metadata": {},
   "source": [
    "Там, где нам не нужна точность с несколькими знаками после запятой, лучше привести к целым числам - так массив данных будет обрабатываться быстрее.\n",
    "Все столбцы с данными проверили и явные ошибки/проблемы устранили."
   ]
  },
  {
   "cell_type": "markdown",
   "metadata": {},
   "source": [
    "### Обработаем дубликаты"
   ]
  },
  {
   "cell_type": "code",
   "execution_count": 46,
   "metadata": {},
   "outputs": [
    {
     "data": {
      "text/plain": [
       "71"
      ]
     },
     "execution_count": 46,
     "metadata": {},
     "output_type": "execute_result"
    }
   ],
   "source": [
    "# посмотрим сколько явных дубликатов есть в данных\n",
    "df.duplicated().sum()"
   ]
  },
  {
   "cell_type": "markdown",
   "metadata": {},
   "source": [
    "Этот метод ищет дубликаты путём сравнивания на полные совпадения данных по всем столбцам. Поскольку дубликатов людей не существует, нам необходимо и достаточно присутствия каждой из записей в одном экземпляре"
   ]
  },
  {
   "cell_type": "code",
   "execution_count": 47,
   "metadata": {},
   "outputs": [],
   "source": [
    "# уберём дубликаты\n",
    "df = df.drop_duplicates().reset_index(drop = True)"
   ]
  },
  {
   "cell_type": "code",
   "execution_count": 48,
   "metadata": {},
   "outputs": [
    {
     "data": {
      "text/plain": [
       "0"
      ]
     },
     "execution_count": 48,
     "metadata": {},
     "output_type": "execute_result"
    }
   ],
   "source": [
    "# проверим, все ли убрали\n",
    "df.duplicated().sum()"
   ]
  },
  {
   "cell_type": "markdown",
   "metadata": {},
   "source": [
    "**Вывод**"
   ]
  },
  {
   "cell_type": "markdown",
   "metadata": {},
   "source": [
    "Дублирующих записей нет."
   ]
  },
  {
   "cell_type": "markdown",
   "metadata": {},
   "source": [
    "### Лемматизация"
   ]
  },
  {
   "cell_type": "markdown",
   "metadata": {},
   "source": [
    "Приведём к нижнему регистру строку с целью кредита - вдруг там есть какие-либо заглавные буквы"
   ]
  },
  {
   "cell_type": "code",
   "execution_count": 49,
   "metadata": {},
   "outputs": [],
   "source": [
    "df['purpose'] = df['purpose'].str.lower()"
   ]
  },
  {
   "cell_type": "code",
   "execution_count": 50,
   "metadata": {},
   "outputs": [
    {
     "name": "stdout",
     "output_type": "stream",
     "text": [
      "['покупка жилья' 'приобретение автомобиля' 'дополнительное образование'\n",
      " 'сыграть свадьбу' 'операции с жильем' 'образование'\n",
      " 'на проведение свадьбы' 'покупка жилья для семьи' 'покупка недвижимости'\n",
      " 'покупка коммерческой недвижимости' 'покупка жилой недвижимости'\n",
      " 'строительство собственной недвижимости' 'недвижимость'\n",
      " 'строительство недвижимости' 'на покупку подержанного автомобиля'\n",
      " 'на покупку своего автомобиля' 'операции с коммерческой недвижимостью'\n",
      " 'строительство жилой недвижимости' 'жилье'\n",
      " 'операции со своей недвижимостью' 'автомобили' 'заняться образованием'\n",
      " 'сделка с подержанным автомобилем' 'получение образования' 'автомобиль'\n",
      " 'свадьба' 'получение дополнительного образования' 'покупка своего жилья'\n",
      " 'операции с недвижимостью' 'получение высшего образования'\n",
      " 'свой автомобиль' 'сделка с автомобилем' 'профильное образование'\n",
      " 'высшее образование' 'покупка жилья для сдачи' 'на покупку автомобиля'\n",
      " 'ремонт жилью' 'заняться высшим образованием']\n"
     ]
    }
   ],
   "source": [
    "print(df['purpose'].unique()) # посмотрим на уникальные значения"
   ]
  },
  {
   "cell_type": "code",
   "execution_count": 51,
   "metadata": {},
   "outputs": [],
   "source": [
    "# Приведём к общему виду столбец с целями кредита\n",
    "\n",
    "m = Mystem()\n",
    "\n",
    "lemmas = m.lemmatize(' '.join(df['purpose']))\n",
    "\n",
    "from collections import Counter\n",
    "lemmas_count = Counter(lemmas)"
   ]
  },
  {
   "cell_type": "code",
   "execution_count": 52,
   "metadata": {},
   "outputs": [
    {
     "name": "stdout",
     "output_type": "stream",
     "text": [
      "[(' ', 54785), ('недвижимость', 6327), ('покупка', 5869), ('жилье', 4436), ('автомобиль', 4284), ('образование', 3995), ('с', 2904), ('операция', 2593), ('свадьба', 2310), ('свой', 2223), ('на', 2210), ('строительство', 1873), ('высокий', 1366), ('получение', 1309), ('коммерческий', 1306), ('для', 1286), ('жилой', 1224), ('сделка', 938), ('дополнительный', 902), ('заниматься', 900)]\n"
     ]
    }
   ],
   "source": [
    "print(lemmas_count.most_common(20)) # посмотрим на 20 самых используемых лемм"
   ]
  },
  {
   "cell_type": "markdown",
   "metadata": {},
   "source": [
    "Сделаем функцию, которая будет проверять значение в ячейке и если лемма включает нужное нам значение - дописывать в новый столбец общее название."
   ]
  },
  {
   "cell_type": "code",
   "execution_count": 53,
   "metadata": {},
   "outputs": [
    {
     "data": {
      "text/html": [
       "<div>\n",
       "<style scoped>\n",
       "    .dataframe tbody tr th:only-of-type {\n",
       "        vertical-align: middle;\n",
       "    }\n",
       "\n",
       "    .dataframe tbody tr th {\n",
       "        vertical-align: top;\n",
       "    }\n",
       "\n",
       "    .dataframe thead th {\n",
       "        text-align: right;\n",
       "    }\n",
       "</style>\n",
       "<table border=\"1\" class=\"dataframe\">\n",
       "  <thead>\n",
       "    <tr style=\"text-align: right;\">\n",
       "      <th></th>\n",
       "      <th>dob_years</th>\n",
       "      <th>education</th>\n",
       "      <th>education_id</th>\n",
       "      <th>family_status</th>\n",
       "      <th>family_status_id</th>\n",
       "      <th>gender</th>\n",
       "      <th>income_type</th>\n",
       "      <th>debt</th>\n",
       "      <th>total_income</th>\n",
       "      <th>purpose</th>\n",
       "      <th>age_category</th>\n",
       "      <th>children</th>\n",
       "      <th>years_employed</th>\n",
       "      <th>purpose_category</th>\n",
       "    </tr>\n",
       "  </thead>\n",
       "  <tbody>\n",
       "    <tr>\n",
       "      <th>0</th>\n",
       "      <td>42</td>\n",
       "      <td>высшее</td>\n",
       "      <td>0</td>\n",
       "      <td>женат / замужем</td>\n",
       "      <td>0</td>\n",
       "      <td>F</td>\n",
       "      <td>сотрудник</td>\n",
       "      <td>0</td>\n",
       "      <td>253875.639453</td>\n",
       "      <td>покупка жилья</td>\n",
       "      <td>middle_specialist</td>\n",
       "      <td>1</td>\n",
       "      <td>23</td>\n",
       "      <td>жилье</td>\n",
       "    </tr>\n",
       "    <tr>\n",
       "      <th>1</th>\n",
       "      <td>36</td>\n",
       "      <td>среднее</td>\n",
       "      <td>1</td>\n",
       "      <td>женат / замужем</td>\n",
       "      <td>0</td>\n",
       "      <td>F</td>\n",
       "      <td>сотрудник</td>\n",
       "      <td>0</td>\n",
       "      <td>112080.014102</td>\n",
       "      <td>приобретение автомобиля</td>\n",
       "      <td>middle_specialist</td>\n",
       "      <td>1</td>\n",
       "      <td>11</td>\n",
       "      <td>автомобиль</td>\n",
       "    </tr>\n",
       "    <tr>\n",
       "      <th>2</th>\n",
       "      <td>33</td>\n",
       "      <td>среднее</td>\n",
       "      <td>1</td>\n",
       "      <td>женат / замужем</td>\n",
       "      <td>0</td>\n",
       "      <td>M</td>\n",
       "      <td>сотрудник</td>\n",
       "      <td>0</td>\n",
       "      <td>145885.952297</td>\n",
       "      <td>покупка жилья</td>\n",
       "      <td>middle_specialist</td>\n",
       "      <td>0</td>\n",
       "      <td>15</td>\n",
       "      <td>жилье</td>\n",
       "    </tr>\n",
       "    <tr>\n",
       "      <th>3</th>\n",
       "      <td>32</td>\n",
       "      <td>среднее</td>\n",
       "      <td>1</td>\n",
       "      <td>женат / замужем</td>\n",
       "      <td>0</td>\n",
       "      <td>M</td>\n",
       "      <td>сотрудник</td>\n",
       "      <td>0</td>\n",
       "      <td>267628.550329</td>\n",
       "      <td>дополнительное образование</td>\n",
       "      <td>middle_specialist</td>\n",
       "      <td>3</td>\n",
       "      <td>11</td>\n",
       "      <td>образование</td>\n",
       "    </tr>\n",
       "    <tr>\n",
       "      <th>4</th>\n",
       "      <td>53</td>\n",
       "      <td>среднее</td>\n",
       "      <td>1</td>\n",
       "      <td>гражданский брак</td>\n",
       "      <td>1</td>\n",
       "      <td>F</td>\n",
       "      <td>пенсионер</td>\n",
       "      <td>0</td>\n",
       "      <td>158616.077870</td>\n",
       "      <td>сыграть свадьбу</td>\n",
       "      <td>senior_specialist</td>\n",
       "      <td>0</td>\n",
       "      <td>38</td>\n",
       "      <td>свадьба</td>\n",
       "    </tr>\n",
       "  </tbody>\n",
       "</table>\n",
       "</div>"
      ],
      "text/plain": [
       "   dob_years education  education_id     family_status  family_status_id  \\\n",
       "0         42    высшее             0   женат / замужем                 0   \n",
       "1         36   среднее             1   женат / замужем                 0   \n",
       "2         33   среднее             1   женат / замужем                 0   \n",
       "3         32   среднее             1   женат / замужем                 0   \n",
       "4         53   среднее             1  гражданский брак                 1   \n",
       "\n",
       "  gender income_type  debt   total_income                     purpose  \\\n",
       "0      F   сотрудник     0  253875.639453               покупка жилья   \n",
       "1      F   сотрудник     0  112080.014102     приобретение автомобиля   \n",
       "2      M   сотрудник     0  145885.952297               покупка жилья   \n",
       "3      M   сотрудник     0  267628.550329  дополнительное образование   \n",
       "4      F   пенсионер     0  158616.077870             сыграть свадьбу   \n",
       "\n",
       "        age_category  children  years_employed purpose_category  \n",
       "0  middle_specialist         1              23            жилье  \n",
       "1  middle_specialist         1              11       автомобиль  \n",
       "2  middle_specialist         0              15            жилье  \n",
       "3  middle_specialist         3              11      образование  \n",
       "4  senior_specialist         0              38          свадьба  "
      ]
     },
     "metadata": {},
     "output_type": "display_data"
    }
   ],
   "source": [
    "def purpose_category(cell_value):\n",
    "    categories = ['автомобиль', 'жилье', 'недвижимость', 'образование', 'свадьба', 'строительство']\n",
    "    lemmas = m.lemmatize(cell_value) # тут нужно лемматизировать cell_value т.е. это значение текущей ячейки\n",
    "    for word in categories:\n",
    "        if word in lemmas:\n",
    "            return word\n",
    "\n",
    "df['purpose_category'] = df['purpose'].apply(purpose_category) \n",
    "display(df.head())"
   ]
  },
  {
   "cell_type": "code",
   "execution_count": 54,
   "metadata": {},
   "outputs": [
    {
     "name": "stdout",
     "output_type": "stream",
     "text": [
      "purpose_category\n",
      "автомобиль      4284\n",
      "жилье           4436\n",
      "недвижимость    6327\n",
      "образование     3995\n",
      "свадьба         2310\n",
      "Name: purpose_category, dtype: int64\n"
     ]
    }
   ],
   "source": [
    "print(df.groupby('purpose_category')['purpose_category'].count()) # посмотрим сколько категорий получилось"
   ]
  },
  {
   "cell_type": "markdown",
   "metadata": {},
   "source": [
    "Сведём три разных названия недвижимости к одному."
   ]
  },
  {
   "cell_type": "code",
   "execution_count": 55,
   "metadata": {},
   "outputs": [],
   "source": [
    "def final_purpose_category(cell_value):\n",
    "    categories = ['жилье', 'недвижимость', 'строительство']\n",
    "    for word in categories:\n",
    "        if word in cell_value:\n",
    "            return 'недвижимость'\n",
    "        else:\n",
    "            return cell_value"
   ]
  },
  {
   "cell_type": "code",
   "execution_count": 56,
   "metadata": {},
   "outputs": [
    {
     "data": {
      "text/html": [
       "<div>\n",
       "<style scoped>\n",
       "    .dataframe tbody tr th:only-of-type {\n",
       "        vertical-align: middle;\n",
       "    }\n",
       "\n",
       "    .dataframe tbody tr th {\n",
       "        vertical-align: top;\n",
       "    }\n",
       "\n",
       "    .dataframe thead th {\n",
       "        text-align: right;\n",
       "    }\n",
       "</style>\n",
       "<table border=\"1\" class=\"dataframe\">\n",
       "  <thead>\n",
       "    <tr style=\"text-align: right;\">\n",
       "      <th></th>\n",
       "      <th>dob_years</th>\n",
       "      <th>education</th>\n",
       "      <th>education_id</th>\n",
       "      <th>family_status</th>\n",
       "      <th>family_status_id</th>\n",
       "      <th>gender</th>\n",
       "      <th>income_type</th>\n",
       "      <th>debt</th>\n",
       "      <th>total_income</th>\n",
       "      <th>purpose</th>\n",
       "      <th>age_category</th>\n",
       "      <th>children</th>\n",
       "      <th>years_employed</th>\n",
       "      <th>purpose_category</th>\n",
       "      <th>final_purpose_category</th>\n",
       "    </tr>\n",
       "  </thead>\n",
       "  <tbody>\n",
       "    <tr>\n",
       "      <th>0</th>\n",
       "      <td>42</td>\n",
       "      <td>высшее</td>\n",
       "      <td>0</td>\n",
       "      <td>женат / замужем</td>\n",
       "      <td>0</td>\n",
       "      <td>F</td>\n",
       "      <td>сотрудник</td>\n",
       "      <td>0</td>\n",
       "      <td>253875.639453</td>\n",
       "      <td>покупка жилья</td>\n",
       "      <td>middle_specialist</td>\n",
       "      <td>1</td>\n",
       "      <td>23</td>\n",
       "      <td>жилье</td>\n",
       "      <td>недвижимость</td>\n",
       "    </tr>\n",
       "    <tr>\n",
       "      <th>1</th>\n",
       "      <td>36</td>\n",
       "      <td>среднее</td>\n",
       "      <td>1</td>\n",
       "      <td>женат / замужем</td>\n",
       "      <td>0</td>\n",
       "      <td>F</td>\n",
       "      <td>сотрудник</td>\n",
       "      <td>0</td>\n",
       "      <td>112080.014102</td>\n",
       "      <td>приобретение автомобиля</td>\n",
       "      <td>middle_specialist</td>\n",
       "      <td>1</td>\n",
       "      <td>11</td>\n",
       "      <td>автомобиль</td>\n",
       "      <td>автомобиль</td>\n",
       "    </tr>\n",
       "    <tr>\n",
       "      <th>2</th>\n",
       "      <td>33</td>\n",
       "      <td>среднее</td>\n",
       "      <td>1</td>\n",
       "      <td>женат / замужем</td>\n",
       "      <td>0</td>\n",
       "      <td>M</td>\n",
       "      <td>сотрудник</td>\n",
       "      <td>0</td>\n",
       "      <td>145885.952297</td>\n",
       "      <td>покупка жилья</td>\n",
       "      <td>middle_specialist</td>\n",
       "      <td>0</td>\n",
       "      <td>15</td>\n",
       "      <td>жилье</td>\n",
       "      <td>недвижимость</td>\n",
       "    </tr>\n",
       "    <tr>\n",
       "      <th>3</th>\n",
       "      <td>32</td>\n",
       "      <td>среднее</td>\n",
       "      <td>1</td>\n",
       "      <td>женат / замужем</td>\n",
       "      <td>0</td>\n",
       "      <td>M</td>\n",
       "      <td>сотрудник</td>\n",
       "      <td>0</td>\n",
       "      <td>267628.550329</td>\n",
       "      <td>дополнительное образование</td>\n",
       "      <td>middle_specialist</td>\n",
       "      <td>3</td>\n",
       "      <td>11</td>\n",
       "      <td>образование</td>\n",
       "      <td>образование</td>\n",
       "    </tr>\n",
       "    <tr>\n",
       "      <th>4</th>\n",
       "      <td>53</td>\n",
       "      <td>среднее</td>\n",
       "      <td>1</td>\n",
       "      <td>гражданский брак</td>\n",
       "      <td>1</td>\n",
       "      <td>F</td>\n",
       "      <td>пенсионер</td>\n",
       "      <td>0</td>\n",
       "      <td>158616.077870</td>\n",
       "      <td>сыграть свадьбу</td>\n",
       "      <td>senior_specialist</td>\n",
       "      <td>0</td>\n",
       "      <td>38</td>\n",
       "      <td>свадьба</td>\n",
       "      <td>свадьба</td>\n",
       "    </tr>\n",
       "  </tbody>\n",
       "</table>\n",
       "</div>"
      ],
      "text/plain": [
       "   dob_years education  education_id     family_status  family_status_id  \\\n",
       "0         42    высшее             0   женат / замужем                 0   \n",
       "1         36   среднее             1   женат / замужем                 0   \n",
       "2         33   среднее             1   женат / замужем                 0   \n",
       "3         32   среднее             1   женат / замужем                 0   \n",
       "4         53   среднее             1  гражданский брак                 1   \n",
       "\n",
       "  gender income_type  debt   total_income                     purpose  \\\n",
       "0      F   сотрудник     0  253875.639453               покупка жилья   \n",
       "1      F   сотрудник     0  112080.014102     приобретение автомобиля   \n",
       "2      M   сотрудник     0  145885.952297               покупка жилья   \n",
       "3      M   сотрудник     0  267628.550329  дополнительное образование   \n",
       "4      F   пенсионер     0  158616.077870             сыграть свадьбу   \n",
       "\n",
       "        age_category  children  years_employed purpose_category  \\\n",
       "0  middle_specialist         1              23            жилье   \n",
       "1  middle_specialist         1              11       автомобиль   \n",
       "2  middle_specialist         0              15            жилье   \n",
       "3  middle_specialist         3              11      образование   \n",
       "4  senior_specialist         0              38          свадьба   \n",
       "\n",
       "  final_purpose_category  \n",
       "0           недвижимость  \n",
       "1             автомобиль  \n",
       "2           недвижимость  \n",
       "3            образование  \n",
       "4                свадьба  "
      ]
     },
     "metadata": {},
     "output_type": "display_data"
    }
   ],
   "source": [
    "df['final_purpose_category'] = df['purpose_category'].apply(final_purpose_category) \n",
    "display(df.head())"
   ]
  },
  {
   "cell_type": "code",
   "execution_count": 57,
   "metadata": {},
   "outputs": [],
   "source": [
    "df = df.drop(labels='purpose_category', axis=1) \n",
    "# удалим столбец с первой итерацией обработанных категорий - у нас уже есть столбец с итоговыми категориями."
   ]
  },
  {
   "cell_type": "code",
   "execution_count": 58,
   "metadata": {},
   "outputs": [],
   "source": [
    "# переименуем столбец в просто purpose_category\n",
    "df.rename(columns={'final_purpose_category': 'purpose_category'}, inplace=True)"
   ]
  },
  {
   "cell_type": "markdown",
   "metadata": {},
   "source": [
    "**Вывод**"
   ]
  },
  {
   "cell_type": "markdown",
   "metadata": {},
   "source": [
    "Лемматизация целей кредита позволила выявить основные категории целей."
   ]
  },
  {
   "cell_type": "markdown",
   "metadata": {},
   "source": [
    "### Категоризация данных"
   ]
  },
  {
   "cell_type": "markdown",
   "metadata": {},
   "source": [
    "По идее, категориями являются уникальные значения столбцов education, family_status, income_type, age_category, children,  purpose_category. Для комплекта можем создать отдельную категорию employee_category - чтобы можно было сгруппировать строчки по длительности стажа. Столбец debt является категориальным - там два типа значений: \"0\" - нет задолженности и \"1\" - есть задолженность. Переводить его в какую-либо другую форму не хочется - данные уже в бинарной форме, нет смысла их как-либо изменять."
   ]
  },
  {
   "cell_type": "code",
   "execution_count": 59,
   "metadata": {},
   "outputs": [],
   "source": [
    "# введём категории длитетльности стажа\n",
    "df['employee_category'] = pd.cut(df['years_employed'], \n",
    "                              bins=[0,3,10,20,100],\n",
    "                              labels=['low employed', 'middle employed','normal employed', 'senior_employed']\n",
    "                             )"
   ]
  },
  {
   "cell_type": "markdown",
   "metadata": {},
   "source": [
    "Для категоризации дохода я использую и квартили, и среднееарифметическое, и медиану: выделю отдельно людей, с доходом ниже медианного по выборке, отдельно - тех, у кого доход выше медианного, но ниже среднеарифметического, отдельно - тех, у кого доход не больше, чем значение квартили 75%, а остальные - будут с наибольшим доходом."
   ]
  },
  {
   "cell_type": "code",
   "execution_count": 60,
   "metadata": {},
   "outputs": [
    {
     "name": "stdout",
     "output_type": "stream",
     "text": [
      "count    2.135200e+04\n",
      "mean     1.652951e+05\n",
      "std      9.826609e+04\n",
      "min      2.066726e+04\n",
      "25%      1.076489e+05\n",
      "50%      1.419764e+05\n",
      "75%      1.957838e+05\n",
      "max      2.265604e+06\n",
      "Name: total_income, dtype: float64\n",
      "165295.0919200141\n",
      "141976.38959862455\n"
     ]
    }
   ],
   "source": [
    "print(df['total_income'].describe()) # посчитаем квартили\n",
    "print(df['total_income'].mean())\n",
    "print(df['total_income'].median())"
   ]
  },
  {
   "cell_type": "code",
   "execution_count": 61,
   "metadata": {},
   "outputs": [],
   "source": [
    "# введём категории дохода\n",
    "df['income_category'] = pd.cut(df['total_income'], \n",
    "                              bins=[0,141976.38959862455,165295.0919200141,1.957838e+05,2.265604e+06],\n",
    "                              labels=['ниже медианного значения', 'ниже среднеарифметического значения','больше, чем у 75% заёмщиков', 'высокий']\n",
    "                             )"
   ]
  },
  {
   "cell_type": "code",
   "execution_count": 62,
   "metadata": {},
   "outputs": [
    {
     "data": {
      "text/html": [
       "<div>\n",
       "<style scoped>\n",
       "    .dataframe tbody tr th:only-of-type {\n",
       "        vertical-align: middle;\n",
       "    }\n",
       "\n",
       "    .dataframe tbody tr th {\n",
       "        vertical-align: top;\n",
       "    }\n",
       "\n",
       "    .dataframe thead th {\n",
       "        text-align: right;\n",
       "    }\n",
       "</style>\n",
       "<table border=\"1\" class=\"dataframe\">\n",
       "  <thead>\n",
       "    <tr style=\"text-align: right;\">\n",
       "      <th></th>\n",
       "      <th>dob_years</th>\n",
       "      <th>education</th>\n",
       "      <th>education_id</th>\n",
       "      <th>family_status</th>\n",
       "      <th>family_status_id</th>\n",
       "      <th>gender</th>\n",
       "      <th>income_type</th>\n",
       "      <th>debt</th>\n",
       "      <th>total_income</th>\n",
       "      <th>purpose</th>\n",
       "      <th>age_category</th>\n",
       "      <th>children</th>\n",
       "      <th>years_employed</th>\n",
       "      <th>purpose_category</th>\n",
       "      <th>employee_category</th>\n",
       "      <th>income_category</th>\n",
       "    </tr>\n",
       "  </thead>\n",
       "  <tbody>\n",
       "    <tr>\n",
       "      <th>0</th>\n",
       "      <td>42</td>\n",
       "      <td>высшее</td>\n",
       "      <td>0</td>\n",
       "      <td>женат / замужем</td>\n",
       "      <td>0</td>\n",
       "      <td>F</td>\n",
       "      <td>сотрудник</td>\n",
       "      <td>0</td>\n",
       "      <td>253875.639453</td>\n",
       "      <td>покупка жилья</td>\n",
       "      <td>middle_specialist</td>\n",
       "      <td>1</td>\n",
       "      <td>23</td>\n",
       "      <td>недвижимость</td>\n",
       "      <td>senior_employed</td>\n",
       "      <td>высокий</td>\n",
       "    </tr>\n",
       "    <tr>\n",
       "      <th>1</th>\n",
       "      <td>36</td>\n",
       "      <td>среднее</td>\n",
       "      <td>1</td>\n",
       "      <td>женат / замужем</td>\n",
       "      <td>0</td>\n",
       "      <td>F</td>\n",
       "      <td>сотрудник</td>\n",
       "      <td>0</td>\n",
       "      <td>112080.014102</td>\n",
       "      <td>приобретение автомобиля</td>\n",
       "      <td>middle_specialist</td>\n",
       "      <td>1</td>\n",
       "      <td>11</td>\n",
       "      <td>автомобиль</td>\n",
       "      <td>normal employed</td>\n",
       "      <td>ниже медианного значения</td>\n",
       "    </tr>\n",
       "    <tr>\n",
       "      <th>2</th>\n",
       "      <td>33</td>\n",
       "      <td>среднее</td>\n",
       "      <td>1</td>\n",
       "      <td>женат / замужем</td>\n",
       "      <td>0</td>\n",
       "      <td>M</td>\n",
       "      <td>сотрудник</td>\n",
       "      <td>0</td>\n",
       "      <td>145885.952297</td>\n",
       "      <td>покупка жилья</td>\n",
       "      <td>middle_specialist</td>\n",
       "      <td>0</td>\n",
       "      <td>15</td>\n",
       "      <td>недвижимость</td>\n",
       "      <td>normal employed</td>\n",
       "      <td>ниже среднеарифметического значения</td>\n",
       "    </tr>\n",
       "    <tr>\n",
       "      <th>3</th>\n",
       "      <td>32</td>\n",
       "      <td>среднее</td>\n",
       "      <td>1</td>\n",
       "      <td>женат / замужем</td>\n",
       "      <td>0</td>\n",
       "      <td>M</td>\n",
       "      <td>сотрудник</td>\n",
       "      <td>0</td>\n",
       "      <td>267628.550329</td>\n",
       "      <td>дополнительное образование</td>\n",
       "      <td>middle_specialist</td>\n",
       "      <td>3</td>\n",
       "      <td>11</td>\n",
       "      <td>образование</td>\n",
       "      <td>normal employed</td>\n",
       "      <td>высокий</td>\n",
       "    </tr>\n",
       "    <tr>\n",
       "      <th>4</th>\n",
       "      <td>53</td>\n",
       "      <td>среднее</td>\n",
       "      <td>1</td>\n",
       "      <td>гражданский брак</td>\n",
       "      <td>1</td>\n",
       "      <td>F</td>\n",
       "      <td>пенсионер</td>\n",
       "      <td>0</td>\n",
       "      <td>158616.077870</td>\n",
       "      <td>сыграть свадьбу</td>\n",
       "      <td>senior_specialist</td>\n",
       "      <td>0</td>\n",
       "      <td>38</td>\n",
       "      <td>свадьба</td>\n",
       "      <td>senior_employed</td>\n",
       "      <td>ниже среднеарифметического значения</td>\n",
       "    </tr>\n",
       "  </tbody>\n",
       "</table>\n",
       "</div>"
      ],
      "text/plain": [
       "   dob_years education  education_id     family_status  family_status_id  \\\n",
       "0         42    высшее             0   женат / замужем                 0   \n",
       "1         36   среднее             1   женат / замужем                 0   \n",
       "2         33   среднее             1   женат / замужем                 0   \n",
       "3         32   среднее             1   женат / замужем                 0   \n",
       "4         53   среднее             1  гражданский брак                 1   \n",
       "\n",
       "  gender income_type  debt   total_income                     purpose  \\\n",
       "0      F   сотрудник     0  253875.639453               покупка жилья   \n",
       "1      F   сотрудник     0  112080.014102     приобретение автомобиля   \n",
       "2      M   сотрудник     0  145885.952297               покупка жилья   \n",
       "3      M   сотрудник     0  267628.550329  дополнительное образование   \n",
       "4      F   пенсионер     0  158616.077870             сыграть свадьбу   \n",
       "\n",
       "        age_category  children  years_employed purpose_category  \\\n",
       "0  middle_specialist         1              23     недвижимость   \n",
       "1  middle_specialist         1              11       автомобиль   \n",
       "2  middle_specialist         0              15     недвижимость   \n",
       "3  middle_specialist         3              11      образование   \n",
       "4  senior_specialist         0              38          свадьба   \n",
       "\n",
       "  employee_category                      income_category  \n",
       "0   senior_employed                              высокий  \n",
       "1   normal employed             ниже медианного значения  \n",
       "2   normal employed  ниже среднеарифметического значения  \n",
       "3   normal employed                              высокий  \n",
       "4   senior_employed  ниже среднеарифметического значения  "
      ]
     },
     "metadata": {},
     "output_type": "display_data"
    }
   ],
   "source": [
    "display(df.head())"
   ]
  },
  {
   "cell_type": "markdown",
   "metadata": {},
   "source": [
    "**Вывод**"
   ]
  },
  {
   "cell_type": "markdown",
   "metadata": {},
   "source": [
    "Для всех вариантов данных есть категории, теперь можно делать выводы."
   ]
  },
  {
   "cell_type": "markdown",
   "metadata": {},
   "source": [
    "## Шаг 3. Выводы на основе данных"
   ]
  },
  {
   "cell_type": "markdown",
   "metadata": {},
   "source": [
    "### Есть ли зависимость между наличием детей и возвратом кредита в срок?"
   ]
  },
  {
   "cell_type": "code",
   "execution_count": 63,
   "metadata": {},
   "outputs": [
    {
     "data": {
      "text/html": [
       "<style  type=\"text/css\" >\n",
       "</style><table id=\"T_45d51_\" ><thead>    <tr>        <th class=\"blank level0\" ></th>        <th class=\"col_heading level0 col0\" colspan=\"2\">Верхний уровень</th>    </tr>    <tr>        <th class=\"blank level1\" ></th>        <th class=\"col_heading level1 col0\" >% невозврата</th>        <th class=\"col_heading level1 col1\" >Кол-во заемщиков</th>    </tr>    <tr>        <th class=\"index_name level0\" >Кол-во детей</th>        <th class=\"blank\" ></th>        <th class=\"blank\" ></th>    </tr></thead><tbody>\n",
       "                <tr>\n",
       "                        <th id=\"T_45d51_level0_row0\" class=\"row_heading level0 row0\" >0</th>\n",
       "                        <td id=\"T_45d51_row0_col0\" class=\"data row0 col0\" >7.55%</td>\n",
       "                        <td id=\"T_45d51_row0_col1\" class=\"data row0 col1\" >14021.00</td>\n",
       "            </tr>\n",
       "            <tr>\n",
       "                        <th id=\"T_45d51_level0_row1\" class=\"row_heading level0 row1\" >1</th>\n",
       "                        <td id=\"T_45d51_row1_col0\" class=\"data row1 col0\" >9.13%</td>\n",
       "                        <td id=\"T_45d51_row1_col1\" class=\"data row1 col1\" >4839.00</td>\n",
       "            </tr>\n",
       "            <tr>\n",
       "                        <th id=\"T_45d51_level0_row2\" class=\"row_heading level0 row2\" >2</th>\n",
       "                        <td id=\"T_45d51_row2_col0\" class=\"data row2 col0\" >9.56%</td>\n",
       "                        <td id=\"T_45d51_row2_col1\" class=\"data row2 col1\" >2114.00</td>\n",
       "            </tr>\n",
       "            <tr>\n",
       "                        <th id=\"T_45d51_level0_row3\" class=\"row_heading level0 row3\" >3</th>\n",
       "                        <td id=\"T_45d51_row3_col0\" class=\"data row3 col0\" >8.23%</td>\n",
       "                        <td id=\"T_45d51_row3_col1\" class=\"data row3 col1\" >328.00</td>\n",
       "            </tr>\n",
       "            <tr>\n",
       "                        <th id=\"T_45d51_level0_row4\" class=\"row_heading level0 row4\" >4</th>\n",
       "                        <td id=\"T_45d51_row4_col0\" class=\"data row4 col0\" >9.76%</td>\n",
       "                        <td id=\"T_45d51_row4_col1\" class=\"data row4 col1\" >41.00</td>\n",
       "            </tr>\n",
       "            <tr>\n",
       "                        <th id=\"T_45d51_level0_row5\" class=\"row_heading level0 row5\" >5</th>\n",
       "                        <td id=\"T_45d51_row5_col0\" class=\"data row5 col0\" >0.00%</td>\n",
       "                        <td id=\"T_45d51_row5_col1\" class=\"data row5 col1\" >9.00</td>\n",
       "            </tr>\n",
       "    </tbody></table>"
      ],
      "text/plain": [
       "<pandas.io.formats.style.Styler at 0x7f769c71f3a0>"
      ]
     },
     "execution_count": 63,
     "metadata": {},
     "output_type": "execute_result"
    }
   ],
   "source": [
    "report = df.groupby('children').agg({'debt': ['mean', 'count']}) # группируем для подсчёта\n",
    "report = report.rename(columns = {'debt': 'Верхний уровень'}, level = 0)\n",
    "report = report.rename(columns = {'count': 'Кол-во заемщиков', 'mean': '% невозврата'}, level = 1)\n",
    "report.index = report.index.rename('Кол-во детей')\n",
    "report.style.format({('Верхний уровень', '% невозврата'): '{:.2%}', ('Верхний уровень', 'Кол-во заемщиков'): '{:.2f}'})"
   ]
  },
  {
   "cell_type": "markdown",
   "metadata": {},
   "source": [
    "**Вывод**\n",
    "\n",
    "Чем больше детей - тем больше заемщиков не вернули кредит. Однако, в абсолютных числах должников с детьми меньше, чем должников без детей."
   ]
  },
  {
   "cell_type": "markdown",
   "metadata": {},
   "source": [
    "### Есть ли зависимость между семейным положением и возвратом кредита в срок?"
   ]
  },
  {
   "cell_type": "code",
   "execution_count": 64,
   "metadata": {},
   "outputs": [
    {
     "data": {
      "text/html": [
       "<style  type=\"text/css\" >\n",
       "</style><table id=\"T_81ebb_\" ><thead>    <tr>        <th class=\"blank level0\" ></th>        <th class=\"col_heading level0 col0\" colspan=\"2\">Верхний уровень</th>    </tr>    <tr>        <th class=\"blank level1\" ></th>        <th class=\"col_heading level1 col0\" >% невозврата</th>        <th class=\"col_heading level1 col1\" >Кол-во заемщиков</th>    </tr>    <tr>        <th class=\"index_name level0\" >семейное положение</th>        <th class=\"blank\" ></th>        <th class=\"blank\" ></th>    </tr></thead><tbody>\n",
       "                <tr>\n",
       "                        <th id=\"T_81ebb_level0_row0\" class=\"row_heading level0 row0\" >Не женат / не замужем</th>\n",
       "                        <td id=\"T_81ebb_row0_col0\" class=\"data row0 col0\" >9.77%</td>\n",
       "                        <td id=\"T_81ebb_row0_col1\" class=\"data row0 col1\" >2794.00</td>\n",
       "            </tr>\n",
       "            <tr>\n",
       "                        <th id=\"T_81ebb_level0_row1\" class=\"row_heading level0 row1\" >в разводе</th>\n",
       "                        <td id=\"T_81ebb_row1_col0\" class=\"data row1 col0\" >7.17%</td>\n",
       "                        <td id=\"T_81ebb_row1_col1\" class=\"data row1 col1\" >1185.00</td>\n",
       "            </tr>\n",
       "            <tr>\n",
       "                        <th id=\"T_81ebb_level0_row2\" class=\"row_heading level0 row2\" >вдовец / вдова</th>\n",
       "                        <td id=\"T_81ebb_row2_col0\" class=\"data row2 col0\" >6.50%</td>\n",
       "                        <td id=\"T_81ebb_row2_col1\" class=\"data row2 col1\" >954.00</td>\n",
       "            </tr>\n",
       "            <tr>\n",
       "                        <th id=\"T_81ebb_level0_row3\" class=\"row_heading level0 row3\" >гражданский брак</th>\n",
       "                        <td id=\"T_81ebb_row3_col0\" class=\"data row3 col0\" >9.35%</td>\n",
       "                        <td id=\"T_81ebb_row3_col1\" class=\"data row3 col1\" >4129.00</td>\n",
       "            </tr>\n",
       "            <tr>\n",
       "                        <th id=\"T_81ebb_level0_row4\" class=\"row_heading level0 row4\" >женат / замужем</th>\n",
       "                        <td id=\"T_81ebb_row4_col0\" class=\"data row4 col0\" >7.54%</td>\n",
       "                        <td id=\"T_81ebb_row4_col1\" class=\"data row4 col1\" >12290.00</td>\n",
       "            </tr>\n",
       "    </tbody></table>"
      ],
      "text/plain": [
       "<pandas.io.formats.style.Styler at 0x7f76a442c730>"
      ]
     },
     "execution_count": 64,
     "metadata": {},
     "output_type": "execute_result"
    }
   ],
   "source": [
    "report = df.groupby('family_status').agg({'debt': ['mean', 'count']}) # группируем для подсчёта\n",
    "report = report.rename(columns = {'debt': 'Верхний уровень'}, level = 0)\n",
    "report = report.rename(columns = {'count': 'Кол-во заемщиков', 'mean': '% невозврата'}, level = 1)\n",
    "report.index = report.index.rename('семейное положение')\n",
    "report.style.format({('Верхний уровень', '% невозврата'): '{:.2%}', ('Верхний уровень', 'Кол-во заемщиков'): '{:.2f}'})"
   ]
  },
  {
   "cell_type": "markdown",
   "metadata": {},
   "source": [
    "**Вывод**\n",
    "\n",
    "Меньше всего должников у тех, кто отметил семейное положение \"вдовец/вдова\", за ними идут люди в разводе. Однако, в абсолютных числах таких людей в выборке не много.\n",
    "Наиболее надежные кредитозаёмщики с семейным положением \"женат/замужем\" - у них достаточно низкий процент невозврата (только 7,54%) и при этом их в выборке много."
   ]
  },
  {
   "cell_type": "markdown",
   "metadata": {},
   "source": [
    "### Есть ли зависимость между уровнем дохода и возвратом кредита в срок?"
   ]
  },
  {
   "cell_type": "code",
   "execution_count": 73,
   "metadata": {},
   "outputs": [
    {
     "data": {
      "text/html": [
       "<style  type=\"text/css\" >\n",
       "</style><table id=\"T_c89f4_\" ><thead>    <tr>        <th class=\"blank level0\" ></th>        <th class=\"col_heading level0 col0\" colspan=\"2\">Верхний уровень</th>    </tr>    <tr>        <th class=\"blank level1\" ></th>        <th class=\"col_heading level1 col0\" >% невозврата</th>        <th class=\"col_heading level1 col1\" >Кол-во заемщиков</th>    </tr>    <tr>        <th class=\"index_name level0\" >уровень дохода</th>        <th class=\"blank\" ></th>        <th class=\"blank\" ></th>    </tr></thead><tbody>\n",
       "                <tr>\n",
       "                        <th id=\"T_c89f4_level0_row0\" class=\"row_heading level0 row0\" >ниже медианного значения</th>\n",
       "                        <td id=\"T_c89f4_row0_col0\" class=\"data row0 col0\" >8.07%</td>\n",
       "                        <td id=\"T_c89f4_row0_col1\" class=\"data row0 col1\" >10676.00</td>\n",
       "            </tr>\n",
       "            <tr>\n",
       "                        <th id=\"T_c89f4_level0_row1\" class=\"row_heading level0 row1\" >ниже среднеарифметического значения</th>\n",
       "                        <td id=\"T_c89f4_row1_col0\" class=\"data row1 col0\" >9.14%</td>\n",
       "                        <td id=\"T_c89f4_row1_col1\" class=\"data row1 col1\" >2801.00</td>\n",
       "            </tr>\n",
       "            <tr>\n",
       "                        <th id=\"T_c89f4_level0_row2\" class=\"row_heading level0 row2\" >больше, чем у 75% заёмщиков</th>\n",
       "                        <td id=\"T_c89f4_row2_col0\" class=\"data row2 col0\" >9.18%</td>\n",
       "                        <td id=\"T_c89f4_row2_col1\" class=\"data row2 col1\" >2537.00</td>\n",
       "            </tr>\n",
       "            <tr>\n",
       "                        <th id=\"T_c89f4_level0_row3\" class=\"row_heading level0 row3\" >высокий</th>\n",
       "                        <td id=\"T_c89f4_row3_col0\" class=\"data row3 col0\" >7.16%</td>\n",
       "                        <td id=\"T_c89f4_row3_col1\" class=\"data row3 col1\" >5337.00</td>\n",
       "            </tr>\n",
       "    </tbody></table>"
      ],
      "text/plain": [
       "<pandas.io.formats.style.Styler at 0x7f7694565c70>"
      ]
     },
     "execution_count": 73,
     "metadata": {},
     "output_type": "execute_result"
    }
   ],
   "source": [
    "report = df.groupby('income_category').agg({'debt': ['mean', 'count']}) # группируем для подсчёта\n",
    "report = report.rename(columns = {'debt': 'Верхний уровень'}, level = 0)\n",
    "report = report.rename(columns = {'count': 'Кол-во заемщиков', 'mean': '% невозврата'}, level = 1)\n",
    "report.index = report.index.rename('уровень дохода')\n",
    "report.style.format({('Верхний уровень', '% невозврата'): '{:.2%}', ('Верхний уровень', 'Кол-во заемщиков'): '{:.2f}'})"
   ]
  },
  {
   "cell_type": "markdown",
   "metadata": {},
   "source": [
    "**Вывод**\n",
    "\n",
    "Оказалось, что наиболее стабильные заёмщики будут с доходами ниже медианного значения (самые бедные) - 8,07% будут не возвращать кредит в срок, однако - их много в абсолютных цифрах. Наименее надёжные заёмщики оказались в категории дохода \"больше, чем у 75% заёмщиков\" (больше среднеарифметического, но меньше квартили на 75%) - там должников оказалось 9,18%.\n",
    "Меньше всего должников в категории с наибольшими доходами (\"высокий уровень дохода\") - там не вернули в срок только 7,16% заёмщиков."
   ]
  },
  {
   "cell_type": "markdown",
   "metadata": {},
   "source": [
    "### Как разные цели кредита влияют на его возврат в срок?"
   ]
  },
  {
   "cell_type": "code",
   "execution_count": 72,
   "metadata": {},
   "outputs": [
    {
     "data": {
      "text/html": [
       "<style  type=\"text/css\" >\n",
       "</style><table id=\"T_a84ae_\" ><thead>    <tr>        <th class=\"blank level0\" ></th>        <th class=\"col_heading level0 col0\" colspan=\"2\">Верхний уровень</th>    </tr>    <tr>        <th class=\"blank level1\" ></th>        <th class=\"col_heading level1 col0\" >% невозврата</th>        <th class=\"col_heading level1 col1\" >Кол-во заемщиков</th>    </tr>    <tr>        <th class=\"index_name level0\" >Цели кредита</th>        <th class=\"blank\" ></th>        <th class=\"blank\" ></th>    </tr></thead><tbody>\n",
       "                <tr>\n",
       "                        <th id=\"T_a84ae_level0_row0\" class=\"row_heading level0 row0\" >автомобиль</th>\n",
       "                        <td id=\"T_a84ae_row0_col0\" class=\"data row0 col0\" >9.34%</td>\n",
       "                        <td id=\"T_a84ae_row0_col1\" class=\"data row0 col1\" >4284.00</td>\n",
       "            </tr>\n",
       "            <tr>\n",
       "                        <th id=\"T_a84ae_level0_row1\" class=\"row_heading level0 row1\" >недвижимость</th>\n",
       "                        <td id=\"T_a84ae_row1_col0\" class=\"data row1 col0\" >7.24%</td>\n",
       "                        <td id=\"T_a84ae_row1_col1\" class=\"data row1 col1\" >10763.00</td>\n",
       "            </tr>\n",
       "            <tr>\n",
       "                        <th id=\"T_a84ae_level0_row2\" class=\"row_heading level0 row2\" >образование</th>\n",
       "                        <td id=\"T_a84ae_row2_col0\" class=\"data row2 col0\" >9.26%</td>\n",
       "                        <td id=\"T_a84ae_row2_col1\" class=\"data row2 col1\" >3995.00</td>\n",
       "            </tr>\n",
       "            <tr>\n",
       "                        <th id=\"T_a84ae_level0_row3\" class=\"row_heading level0 row3\" >свадьба</th>\n",
       "                        <td id=\"T_a84ae_row3_col0\" class=\"data row3 col0\" >7.97%</td>\n",
       "                        <td id=\"T_a84ae_row3_col1\" class=\"data row3 col1\" >2310.00</td>\n",
       "            </tr>\n",
       "    </tbody></table>"
      ],
      "text/plain": [
       "<pandas.io.formats.style.Styler at 0x7f769c71f820>"
      ]
     },
     "execution_count": 72,
     "metadata": {},
     "output_type": "execute_result"
    }
   ],
   "source": [
    "report = df.groupby('purpose_category').agg({'debt': ['mean', 'count']}) # группируем для подсчёта\n",
    "report = report.rename(columns = {'debt': 'Верхний уровень'}, level = 0)\n",
    "report = report.rename(columns = {'count': 'Кол-во заемщиков', 'mean': '% невозврата'}, level = 1)\n",
    "report.index = report.index.rename('Цели кредита')\n",
    "report.style.format({('Верхний уровень', '% невозврата'): '{:.2%}', ('Верхний уровень', 'Кол-во заемщиков'): '{:.2f}'})"
   ]
  },
  {
   "cell_type": "markdown",
   "metadata": {},
   "source": [
    "**Вывод**\n",
    "\n",
    "Люди с целью кредитования \"на недвижимость\" меньше всего допускают задержек платежей - там только 7,24% невозврата. Наиболее рисковые категории целей кредитования - \"на образование\" и \"на автомобиль\": 9,26 % и 9,34% невозврата соответственно."
   ]
  },
  {
   "cell_type": "markdown",
   "metadata": {},
   "source": [
    "## Шаг 4. Общий вывод"
   ]
  },
  {
   "cell_type": "markdown",
   "metadata": {},
   "source": [
    "Мы выявили, что люди с достаточным уровнем дохода допускают просрочку платежа реже, чем те, у кого доходов чуть выше, чем у \"среднего заёмщика\". Так же, мы выяснили, что кредитование операций с недвижимостью - наиболее безопасная категория целей.\n",
    "\n",
    "В целом, чем больше факторов будет учтено одновременно - тем более точным будет прогноз. Однако, для точного и многофакторного прогноза выборка тоже должна быть достаточно большой. Если каких-либо уникальных комбинаций в категориях будет мало (мало записей), то выборка будет не репрезентативна, и полученные данные будут иметь сильную погрешность."
   ]
  }
 ],
 "metadata": {
  "ExecuteTimeLog": [
   {
    "duration": 351,
    "start_time": "2022-04-10T10:34:20.995Z"
   },
   {
    "duration": 60,
    "start_time": "2022-04-10T10:34:46.071Z"
   },
   {
    "duration": 40,
    "start_time": "2022-04-10T10:35:00.086Z"
   },
   {
    "duration": 3,
    "start_time": "2022-04-10T10:37:58.906Z"
   },
   {
    "duration": 109,
    "start_time": "2022-04-10T10:37:59.486Z"
   },
   {
    "duration": 182,
    "start_time": "2022-04-11T10:56:23.228Z"
   },
   {
    "duration": 1265,
    "start_time": "2022-04-11T11:18:28.289Z"
   },
   {
    "duration": 62,
    "start_time": "2022-04-11T11:18:29.557Z"
   },
   {
    "duration": 4,
    "start_time": "2022-04-11T11:18:29.620Z"
   },
   {
    "duration": 84,
    "start_time": "2022-04-11T11:18:29.625Z"
   },
   {
    "duration": 3,
    "start_time": "2022-04-11T11:18:29.711Z"
   },
   {
    "duration": 14,
    "start_time": "2022-04-11T11:18:29.715Z"
   },
   {
    "duration": 25,
    "start_time": "2022-04-11T11:18:29.730Z"
   },
   {
    "duration": 5,
    "start_time": "2022-04-11T11:18:29.756Z"
   },
   {
    "duration": 10,
    "start_time": "2022-04-11T11:18:29.762Z"
   },
   {
    "duration": 8,
    "start_time": "2022-04-11T11:18:29.773Z"
   },
   {
    "duration": 343,
    "start_time": "2022-04-11T11:18:29.782Z"
   },
   {
    "duration": 6,
    "start_time": "2022-04-11T11:18:30.126Z"
   },
   {
    "duration": 333,
    "start_time": "2022-04-11T11:18:30.147Z"
   },
   {
    "duration": 6,
    "start_time": "2022-04-11T11:18:30.483Z"
   },
   {
    "duration": 23,
    "start_time": "2022-04-11T11:18:30.491Z"
   },
   {
    "duration": 10,
    "start_time": "2022-04-11T11:18:30.516Z"
   },
   {
    "duration": 13,
    "start_time": "2022-04-11T11:18:30.528Z"
   },
   {
    "duration": 16,
    "start_time": "2022-04-11T11:18:30.542Z"
   },
   {
    "duration": 13,
    "start_time": "2022-04-11T11:18:30.560Z"
   },
   {
    "duration": 10,
    "start_time": "2022-04-11T11:18:30.574Z"
   },
   {
    "duration": 13,
    "start_time": "2022-04-11T11:18:30.585Z"
   },
   {
    "duration": 13,
    "start_time": "2022-04-11T11:18:30.600Z"
   },
   {
    "duration": 14,
    "start_time": "2022-04-11T11:18:30.614Z"
   },
   {
    "duration": 19,
    "start_time": "2022-04-11T11:18:30.630Z"
   },
   {
    "duration": 19,
    "start_time": "2022-04-11T11:18:30.650Z"
   },
   {
    "duration": 17,
    "start_time": "2022-04-11T11:18:30.670Z"
   },
   {
    "duration": 10,
    "start_time": "2022-04-11T11:18:30.689Z"
   },
   {
    "duration": 12,
    "start_time": "2022-04-11T11:18:30.701Z"
   },
   {
    "duration": 20,
    "start_time": "2022-04-11T11:18:30.715Z"
   },
   {
    "duration": 30,
    "start_time": "2022-04-11T11:18:30.737Z"
   },
   {
    "duration": 34,
    "start_time": "2022-04-11T11:18:30.769Z"
   },
   {
    "duration": 3,
    "start_time": "2022-04-11T11:18:30.804Z"
   },
   {
    "duration": 20,
    "start_time": "2022-04-11T11:18:30.808Z"
   },
   {
    "duration": 14,
    "start_time": "2022-04-11T11:18:30.830Z"
   },
   {
    "duration": 22,
    "start_time": "2022-04-11T11:18:30.846Z"
   },
   {
    "duration": 18,
    "start_time": "2022-04-11T11:18:30.869Z"
   },
   {
    "duration": 31,
    "start_time": "2022-04-11T11:18:30.888Z"
   },
   {
    "duration": 10,
    "start_time": "2022-04-11T11:18:30.920Z"
   },
   {
    "duration": 180,
    "start_time": "2022-04-11T11:18:30.931Z"
   },
   {
    "duration": 3,
    "start_time": "2022-04-11T11:18:31.112Z"
   },
   {
    "duration": 13,
    "start_time": "2022-04-11T11:18:31.119Z"
   },
   {
    "duration": 206,
    "start_time": "2022-04-11T11:18:31.134Z"
   },
   {
    "duration": 13,
    "start_time": "2022-04-11T11:18:31.342Z"
   },
   {
    "duration": 6,
    "start_time": "2022-04-11T11:18:31.357Z"
   },
   {
    "duration": 17,
    "start_time": "2022-04-11T11:18:31.364Z"
   },
   {
    "duration": 27,
    "start_time": "2022-04-11T11:18:31.383Z"
   },
   {
    "duration": 19,
    "start_time": "2022-04-11T11:18:31.412Z"
   },
   {
    "duration": 17,
    "start_time": "2022-04-11T11:18:31.432Z"
   },
   {
    "duration": 14,
    "start_time": "2022-04-11T11:18:31.451Z"
   },
   {
    "duration": 15,
    "start_time": "2022-04-11T11:18:31.467Z"
   },
   {
    "duration": 2606,
    "start_time": "2022-04-11T11:18:31.484Z"
   },
   {
    "duration": 4,
    "start_time": "2022-04-11T11:18:34.091Z"
   },
   {
    "duration": 1203,
    "start_time": "2022-04-11T11:19:31.980Z"
   },
   {
    "duration": 59,
    "start_time": "2022-04-11T11:19:33.185Z"
   },
   {
    "duration": 3,
    "start_time": "2022-04-11T11:19:33.246Z"
   },
   {
    "duration": 79,
    "start_time": "2022-04-11T11:19:33.250Z"
   },
   {
    "duration": 4,
    "start_time": "2022-04-11T11:19:33.331Z"
   },
   {
    "duration": 15,
    "start_time": "2022-04-11T11:19:33.348Z"
   },
   {
    "duration": 14,
    "start_time": "2022-04-11T11:19:33.364Z"
   },
   {
    "duration": 5,
    "start_time": "2022-04-11T11:19:33.380Z"
   },
   {
    "duration": 10,
    "start_time": "2022-04-11T11:19:33.387Z"
   },
   {
    "duration": 6,
    "start_time": "2022-04-11T11:19:33.398Z"
   },
   {
    "duration": 358,
    "start_time": "2022-04-11T11:19:33.406Z"
   },
   {
    "duration": 6,
    "start_time": "2022-04-11T11:19:33.765Z"
   },
   {
    "duration": 364,
    "start_time": "2022-04-11T11:19:33.773Z"
   },
   {
    "duration": 11,
    "start_time": "2022-04-11T11:19:34.140Z"
   },
   {
    "duration": 8,
    "start_time": "2022-04-11T11:19:34.153Z"
   },
   {
    "duration": 8,
    "start_time": "2022-04-11T11:19:34.163Z"
   },
   {
    "duration": 8,
    "start_time": "2022-04-11T11:19:34.173Z"
   },
   {
    "duration": 15,
    "start_time": "2022-04-11T11:19:34.183Z"
   },
   {
    "duration": 9,
    "start_time": "2022-04-11T11:19:34.200Z"
   },
   {
    "duration": 9,
    "start_time": "2022-04-11T11:19:34.211Z"
   },
   {
    "duration": 27,
    "start_time": "2022-04-11T11:19:34.222Z"
   },
   {
    "duration": 5,
    "start_time": "2022-04-11T11:19:34.251Z"
   },
   {
    "duration": 12,
    "start_time": "2022-04-11T11:19:34.258Z"
   },
   {
    "duration": 12,
    "start_time": "2022-04-11T11:19:34.272Z"
   },
   {
    "duration": 15,
    "start_time": "2022-04-11T11:19:34.286Z"
   },
   {
    "duration": 19,
    "start_time": "2022-04-11T11:19:34.303Z"
   },
   {
    "duration": 26,
    "start_time": "2022-04-11T11:19:34.324Z"
   },
   {
    "duration": 11,
    "start_time": "2022-04-11T11:19:34.352Z"
   },
   {
    "duration": 5,
    "start_time": "2022-04-11T11:19:34.365Z"
   },
   {
    "duration": 9,
    "start_time": "2022-04-11T11:19:34.372Z"
   },
   {
    "duration": 25,
    "start_time": "2022-04-11T11:19:34.383Z"
   },
   {
    "duration": 3,
    "start_time": "2022-04-11T11:19:34.409Z"
   },
   {
    "duration": 40,
    "start_time": "2022-04-11T11:19:34.414Z"
   },
   {
    "duration": 9,
    "start_time": "2022-04-11T11:19:34.456Z"
   },
   {
    "duration": 5,
    "start_time": "2022-04-11T11:19:34.466Z"
   },
   {
    "duration": 5,
    "start_time": "2022-04-11T11:19:34.472Z"
   },
   {
    "duration": 19,
    "start_time": "2022-04-11T11:19:34.479Z"
   },
   {
    "duration": 10,
    "start_time": "2022-04-11T11:19:34.499Z"
   },
   {
    "duration": 189,
    "start_time": "2022-04-11T11:19:34.511Z"
   },
   {
    "duration": 3,
    "start_time": "2022-04-11T11:19:34.702Z"
   },
   {
    "duration": 9,
    "start_time": "2022-04-11T11:19:34.711Z"
   },
   {
    "duration": 214,
    "start_time": "2022-04-11T11:19:34.722Z"
   },
   {
    "duration": 15,
    "start_time": "2022-04-11T11:19:34.938Z"
   },
   {
    "duration": 5,
    "start_time": "2022-04-11T11:19:34.955Z"
   },
   {
    "duration": 17,
    "start_time": "2022-04-11T11:19:34.962Z"
   },
   {
    "duration": 33,
    "start_time": "2022-04-11T11:19:34.980Z"
   },
   {
    "duration": 32,
    "start_time": "2022-04-11T11:19:35.015Z"
   },
   {
    "duration": 18,
    "start_time": "2022-04-11T11:19:35.049Z"
   },
   {
    "duration": 14,
    "start_time": "2022-04-11T11:19:35.069Z"
   },
   {
    "duration": 64,
    "start_time": "2022-04-11T11:19:35.085Z"
   },
   {
    "duration": 3090,
    "start_time": "2022-04-11T11:19:35.150Z"
   },
   {
    "duration": 3,
    "start_time": "2022-04-11T11:19:38.242Z"
   },
   {
    "duration": 1123,
    "start_time": "2022-04-11T11:19:48.342Z"
   },
   {
    "duration": 56,
    "start_time": "2022-04-11T11:19:49.466Z"
   },
   {
    "duration": 4,
    "start_time": "2022-04-11T11:19:49.524Z"
   },
   {
    "duration": 92,
    "start_time": "2022-04-11T11:19:49.529Z"
   },
   {
    "duration": 3,
    "start_time": "2022-04-11T11:19:49.623Z"
   },
   {
    "duration": 19,
    "start_time": "2022-04-11T11:19:49.628Z"
   },
   {
    "duration": 15,
    "start_time": "2022-04-11T11:19:49.648Z"
   },
   {
    "duration": 6,
    "start_time": "2022-04-11T11:19:49.664Z"
   },
   {
    "duration": 9,
    "start_time": "2022-04-11T11:19:49.671Z"
   },
   {
    "duration": 7,
    "start_time": "2022-04-11T11:19:49.681Z"
   },
   {
    "duration": 332,
    "start_time": "2022-04-11T11:19:49.689Z"
   },
   {
    "duration": 7,
    "start_time": "2022-04-11T11:19:50.023Z"
   },
   {
    "duration": 327,
    "start_time": "2022-04-11T11:19:50.031Z"
   },
   {
    "duration": 7,
    "start_time": "2022-04-11T11:19:50.361Z"
   },
   {
    "duration": 9,
    "start_time": "2022-04-11T11:19:50.369Z"
   },
   {
    "duration": 7,
    "start_time": "2022-04-11T11:19:50.379Z"
   },
   {
    "duration": 5,
    "start_time": "2022-04-11T11:19:50.387Z"
   },
   {
    "duration": 15,
    "start_time": "2022-04-11T11:19:50.394Z"
   },
   {
    "duration": 4,
    "start_time": "2022-04-11T11:19:50.411Z"
   },
   {
    "duration": 37,
    "start_time": "2022-04-11T11:19:50.416Z"
   },
   {
    "duration": 9,
    "start_time": "2022-04-11T11:19:50.454Z"
   },
   {
    "duration": 8,
    "start_time": "2022-04-11T11:19:50.465Z"
   },
   {
    "duration": 8,
    "start_time": "2022-04-11T11:19:50.474Z"
   },
   {
    "duration": 14,
    "start_time": "2022-04-11T11:19:50.483Z"
   },
   {
    "duration": 11,
    "start_time": "2022-04-11T11:19:50.547Z"
   },
   {
    "duration": 15,
    "start_time": "2022-04-11T11:19:50.559Z"
   },
   {
    "duration": 13,
    "start_time": "2022-04-11T11:19:50.575Z"
   },
   {
    "duration": 63,
    "start_time": "2022-04-11T11:19:50.590Z"
   },
   {
    "duration": 5,
    "start_time": "2022-04-11T11:19:50.655Z"
   },
   {
    "duration": 5,
    "start_time": "2022-04-11T11:19:50.662Z"
   },
   {
    "duration": 80,
    "start_time": "2022-04-11T11:19:50.669Z"
   },
   {
    "duration": 3,
    "start_time": "2022-04-11T11:19:50.750Z"
   },
   {
    "duration": 12,
    "start_time": "2022-04-11T11:19:50.755Z"
   },
   {
    "duration": 9,
    "start_time": "2022-04-11T11:19:50.769Z"
   },
   {
    "duration": 5,
    "start_time": "2022-04-11T11:19:50.780Z"
   },
   {
    "duration": 5,
    "start_time": "2022-04-11T11:19:50.787Z"
   },
   {
    "duration": 64,
    "start_time": "2022-04-11T11:19:50.794Z"
   },
   {
    "duration": 19,
    "start_time": "2022-04-11T11:19:50.859Z"
   },
   {
    "duration": 370,
    "start_time": "2022-04-11T11:19:50.880Z"
   },
   {
    "duration": 3,
    "start_time": "2022-04-11T11:19:51.252Z"
   },
   {
    "duration": 13,
    "start_time": "2022-04-11T11:19:51.259Z"
   },
   {
    "duration": 398,
    "start_time": "2022-04-11T11:19:51.274Z"
   },
   {
    "duration": 14,
    "start_time": "2022-04-11T11:19:51.673Z"
   },
   {
    "duration": 4,
    "start_time": "2022-04-11T11:19:51.689Z"
   },
   {
    "duration": 58,
    "start_time": "2022-04-11T11:19:51.695Z"
   },
   {
    "duration": 21,
    "start_time": "2022-04-11T11:19:51.755Z"
   },
   {
    "duration": 73,
    "start_time": "2022-04-11T11:19:51.777Z"
   },
   {
    "duration": 16,
    "start_time": "2022-04-11T11:19:51.852Z"
   },
   {
    "duration": 13,
    "start_time": "2022-04-11T11:19:51.870Z"
   },
   {
    "duration": 64,
    "start_time": "2022-04-11T11:19:51.885Z"
   },
   {
    "duration": 2436,
    "start_time": "2022-04-11T11:19:51.951Z"
   },
   {
    "duration": 3,
    "start_time": "2022-04-11T11:19:54.389Z"
   },
   {
    "duration": 2555,
    "start_time": "2022-04-11T11:19:54.394Z"
   },
   {
    "duration": 7,
    "start_time": "2022-04-11T11:19:56.950Z"
   },
   {
    "duration": 7,
    "start_time": "2022-04-11T11:19:56.959Z"
   },
   {
    "duration": 26,
    "start_time": "2022-04-11T11:19:56.968Z"
   },
   {
    "duration": 11,
    "start_time": "2022-04-11T11:19:56.996Z"
   },
   {
    "duration": 3,
    "start_time": "2022-04-11T11:19:57.009Z"
   },
   {
    "duration": 11,
    "start_time": "2022-04-11T11:19:57.013Z"
   },
   {
    "duration": 28,
    "start_time": "2022-04-11T11:19:57.026Z"
   },
   {
    "duration": 8,
    "start_time": "2022-04-11T11:19:57.056Z"
   },
   {
    "duration": 26,
    "start_time": "2022-04-11T11:19:57.065Z"
   },
   {
    "duration": 59,
    "start_time": "2022-04-11T11:19:57.093Z"
   },
   {
    "duration": 16,
    "start_time": "2022-04-11T11:19:57.154Z"
   },
   {
    "duration": 20,
    "start_time": "2022-04-11T11:19:57.172Z"
   },
   {
    "duration": 20,
    "start_time": "2022-04-11T11:19:57.194Z"
   },
   {
    "duration": 1184,
    "start_time": "2022-04-11T11:25:31.798Z"
   },
   {
    "duration": 58,
    "start_time": "2022-04-11T11:25:32.984Z"
   },
   {
    "duration": 4,
    "start_time": "2022-04-11T11:25:33.044Z"
   },
   {
    "duration": 75,
    "start_time": "2022-04-11T11:25:33.050Z"
   },
   {
    "duration": 3,
    "start_time": "2022-04-11T11:25:33.127Z"
   },
   {
    "duration": 26,
    "start_time": "2022-04-11T11:25:33.131Z"
   },
   {
    "duration": 17,
    "start_time": "2022-04-11T11:25:33.159Z"
   },
   {
    "duration": 4,
    "start_time": "2022-04-11T11:25:33.178Z"
   },
   {
    "duration": 9,
    "start_time": "2022-04-11T11:25:33.184Z"
   },
   {
    "duration": 6,
    "start_time": "2022-04-11T11:25:33.195Z"
   },
   {
    "duration": 340,
    "start_time": "2022-04-11T11:25:33.202Z"
   },
   {
    "duration": 6,
    "start_time": "2022-04-11T11:25:33.544Z"
   },
   {
    "duration": 338,
    "start_time": "2022-04-11T11:25:33.552Z"
   },
   {
    "duration": 6,
    "start_time": "2022-04-11T11:25:33.893Z"
   },
   {
    "duration": 6,
    "start_time": "2022-04-11T11:25:33.901Z"
   },
   {
    "duration": 5,
    "start_time": "2022-04-11T11:25:33.908Z"
   },
   {
    "duration": 5,
    "start_time": "2022-04-11T11:25:33.914Z"
   },
   {
    "duration": 37,
    "start_time": "2022-04-11T11:25:33.921Z"
   },
   {
    "duration": 4,
    "start_time": "2022-04-11T11:25:33.960Z"
   },
   {
    "duration": 12,
    "start_time": "2022-04-11T11:25:33.965Z"
   },
   {
    "duration": 4,
    "start_time": "2022-04-11T11:25:33.978Z"
   },
   {
    "duration": 4,
    "start_time": "2022-04-11T11:25:33.984Z"
   },
   {
    "duration": 8,
    "start_time": "2022-04-11T11:25:33.990Z"
   },
   {
    "duration": 13,
    "start_time": "2022-04-11T11:25:33.999Z"
   },
   {
    "duration": 41,
    "start_time": "2022-04-11T11:25:34.013Z"
   },
   {
    "duration": 13,
    "start_time": "2022-04-11T11:25:34.055Z"
   },
   {
    "duration": 24,
    "start_time": "2022-04-11T11:25:34.070Z"
   },
   {
    "duration": 19,
    "start_time": "2022-04-11T11:25:34.096Z"
   },
   {
    "duration": 6,
    "start_time": "2022-04-11T11:25:34.116Z"
   },
   {
    "duration": 6,
    "start_time": "2022-04-11T11:25:34.123Z"
   },
   {
    "duration": 26,
    "start_time": "2022-04-11T11:25:34.130Z"
   },
   {
    "duration": 3,
    "start_time": "2022-04-11T11:25:34.158Z"
   },
   {
    "duration": 12,
    "start_time": "2022-04-11T11:25:34.162Z"
   },
   {
    "duration": 5,
    "start_time": "2022-04-11T11:25:34.176Z"
   },
   {
    "duration": 4,
    "start_time": "2022-04-11T11:25:34.182Z"
   },
   {
    "duration": 5,
    "start_time": "2022-04-11T11:25:34.187Z"
   },
   {
    "duration": 18,
    "start_time": "2022-04-11T11:25:34.194Z"
   },
   {
    "duration": 5,
    "start_time": "2022-04-11T11:25:34.214Z"
   },
   {
    "duration": 172,
    "start_time": "2022-04-11T11:25:34.246Z"
   },
   {
    "duration": 3,
    "start_time": "2022-04-11T11:25:34.420Z"
   },
   {
    "duration": 20,
    "start_time": "2022-04-11T11:25:34.427Z"
   },
   {
    "duration": 191,
    "start_time": "2022-04-11T11:25:34.449Z"
   },
   {
    "duration": 14,
    "start_time": "2022-04-11T11:25:34.642Z"
   },
   {
    "duration": 3,
    "start_time": "2022-04-11T11:25:34.658Z"
   },
   {
    "duration": 14,
    "start_time": "2022-04-11T11:25:34.663Z"
   },
   {
    "duration": 19,
    "start_time": "2022-04-11T11:25:34.679Z"
   },
   {
    "duration": 18,
    "start_time": "2022-04-11T11:25:34.700Z"
   },
   {
    "duration": 35,
    "start_time": "2022-04-11T11:25:34.720Z"
   },
   {
    "duration": 14,
    "start_time": "2022-04-11T11:25:34.757Z"
   },
   {
    "duration": 11,
    "start_time": "2022-04-11T11:25:34.773Z"
   },
   {
    "duration": 2754,
    "start_time": "2022-04-11T11:25:34.786Z"
   },
   {
    "duration": 6,
    "start_time": "2022-04-11T11:25:37.542Z"
   },
   {
    "duration": 2685,
    "start_time": "2022-04-11T11:25:37.550Z"
   },
   {
    "duration": 7,
    "start_time": "2022-04-11T11:25:40.247Z"
   },
   {
    "duration": 4,
    "start_time": "2022-04-11T11:25:40.255Z"
   },
   {
    "duration": 22,
    "start_time": "2022-04-11T11:25:40.260Z"
   },
   {
    "duration": 15,
    "start_time": "2022-04-11T11:25:40.284Z"
   },
   {
    "duration": 3,
    "start_time": "2022-04-11T11:25:40.300Z"
   },
   {
    "duration": 10,
    "start_time": "2022-04-11T11:25:40.304Z"
   },
   {
    "duration": 35,
    "start_time": "2022-04-11T11:25:40.315Z"
   },
   {
    "duration": 6,
    "start_time": "2022-04-11T11:25:40.351Z"
   },
   {
    "duration": 18,
    "start_time": "2022-04-11T11:25:40.359Z"
   },
   {
    "duration": 76,
    "start_time": "2022-04-11T11:25:40.378Z"
   },
   {
    "duration": 16,
    "start_time": "2022-04-11T11:25:40.456Z"
   },
   {
    "duration": 15,
    "start_time": "2022-04-11T11:25:40.473Z"
   },
   {
    "duration": 16,
    "start_time": "2022-04-11T11:25:40.490Z"
   },
   {
    "duration": 103,
    "start_time": "2022-04-11T11:43:19.692Z"
   },
   {
    "duration": 131,
    "start_time": "2022-04-11T11:43:42.632Z"
   },
   {
    "duration": 19,
    "start_time": "2022-04-11T11:44:31.896Z"
   },
   {
    "duration": 20,
    "start_time": "2022-04-11T11:44:57.576Z"
   },
   {
    "duration": 20,
    "start_time": "2022-04-11T11:45:11.112Z"
   },
   {
    "duration": 19,
    "start_time": "2022-04-11T11:45:20.120Z"
   },
   {
    "duration": 20,
    "start_time": "2022-04-11T11:45:58.263Z"
   }
  ],
  "kernelspec": {
   "display_name": "Python 3 (ipykernel)",
   "language": "python",
   "name": "python3"
  },
  "language_info": {
   "codemirror_mode": {
    "name": "ipython",
    "version": 3
   },
   "file_extension": ".py",
   "mimetype": "text/x-python",
   "name": "python",
   "nbconvert_exporter": "python",
   "pygments_lexer": "ipython3",
   "version": "3.9.5"
  },
  "toc": {
   "base_numbering": 1,
   "nav_menu": {},
   "number_sections": true,
   "sideBar": true,
   "skip_h1_title": false,
   "title_cell": "Table of Contents",
   "title_sidebar": "Contents",
   "toc_cell": false,
   "toc_position": {},
   "toc_section_display": true,
   "toc_window_display": true
  }
 },
 "nbformat": 4,
 "nbformat_minor": 2
}
